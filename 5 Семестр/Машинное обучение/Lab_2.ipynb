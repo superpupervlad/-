{
  "nbformat": 4,
  "nbformat_minor": 0,
  "metadata": {
    "hide_input": false,
    "kernelspec": {
      "display_name": "Python 3",
      "language": "python",
      "name": "python3"
    },
    "language_info": {
      "codemirror_mode": {
        "name": "ipython",
        "version": 3
      },
      "file_extension": ".py",
      "mimetype": "text/x-python",
      "name": "python",
      "nbconvert_exporter": "python",
      "pygments_lexer": "ipython3",
      "version": "3.7.1"
    },
    "toc": {
      "base_numbering": 1,
      "nav_menu": {},
      "number_sections": true,
      "sideBar": true,
      "skip_h1_title": false,
      "title_cell": "Table of Contents",
      "title_sidebar": "Contents",
      "toc_cell": true,
      "toc_position": {},
      "toc_section_display": true,
      "toc_window_display": false
    },
    "varInspector": {
      "cols": {
        "lenName": 16,
        "lenType": 16,
        "lenVar": 40
      },
      "kernels_config": {
        "python": {
          "delete_cmd_postfix": "",
          "delete_cmd_prefix": "del ",
          "library": "var_list.py",
          "varRefreshCmd": "print(var_dic_list())"
        },
        "r": {
          "delete_cmd_postfix": ") ",
          "delete_cmd_prefix": "rm(",
          "library": "var_list.r",
          "varRefreshCmd": "cat(var_dic_list()) "
        }
      },
      "types_to_exclude": [
        "module",
        "function",
        "builtin_function_or_method",
        "instance",
        "_Feature"
      ],
      "window_display": false
    },
    "colab": {
      "name": "Lab_2",
      "provenance": [],
      "collapsed_sections": []
    }
  },
  "cells": [
    {
      "cell_type": "code",
      "metadata": {
        "colab": {
          "base_uri": "https://localhost:8080/"
        },
        "id": "JUL9OMKhFgCM",
        "outputId": "14296a35-b854-4cc5-9f33-8dcad69c1c1b"
      },
      "source": [
        "from google.colab import drive\n",
        "drive.mount('/content/drive')"
      ],
      "execution_count": null,
      "outputs": [
        {
          "output_type": "stream",
          "name": "stdout",
          "text": [
            "Mounted at /content/drive\n"
          ]
        }
      ]
    },
    {
      "cell_type": "code",
      "metadata": {
        "ExecuteTime": {
          "end_time": "2020-04-23T10:16:05.965275Z",
          "start_time": "2020-04-23T10:16:05.312704Z"
        },
        "id": "bZ7J0si68JdT"
      },
      "source": [
        "import pandas as pd\n",
        "import numpy as np"
      ],
      "execution_count": null,
      "outputs": []
    },
    {
      "cell_type": "markdown",
      "metadata": {
        "id": "xjvL0IIG8Jd0"
      },
      "source": [
        "## Задание 0\n"
      ]
    },
    {
      "cell_type": "markdown",
      "metadata": {
        "id": "yaSxXHvxO0qo"
      },
      "source": [
        "Для всех  заданий будем использовать обезличенные транзакционные банковские данные. Для этого считайте в переменные **tr_mcc_codes, tr_types, transactions и gender_train** из одноимённых таблиц из папки [data](https://drive.google.com/drive/folders/1YAMe7MiTxA-RSSd8Ex2p-L0Dspe6Gs4L). \n",
        "\n",
        "Для таблицы transactions используйте только первые n=1000000 строк. При чтении файлов обратите внимание на разделители внутри каждого из файлов - они могут различаться!"
      ]
    },
    {
      "cell_type": "markdown",
      "metadata": {
        "id": "oP3lX9xC8Jd8"
      },
      "source": [
        "###  Описание данных\n",
        "#### Таблица ```transactions.csv```\n",
        "##### Описание\n",
        "Таблица содержит историю транзакций клиентов банка за один год и три месяца.\n",
        "\n",
        "##### Формат данных\n",
        "\n",
        "```\n",
        "customer_id,tr_datetime,mcc_code,tr_type,amount,term_id\n",
        "111111,15 01:40:52,1111,1000,-5224,111111\n",
        "111112,15 15:18:32,3333,2000,-100,11122233\n",
        "...\n",
        "```\n",
        "##### Описание полей\n",
        "\n",
        " - ```customer_id``` — идентификатор клиента;\n",
        " - ```tr_datetime``` — день и время совершения транзакции (дни нумеруются с начала данных);\n",
        " - ```mcc_code``` — mcc-код транзакции;\n",
        " - ```tr_type``` — тип транзакции;\n",
        " - ```amount``` — сумма транзакции в условных единицах со знаком; ```+``` — начисление средств клиенту (приходная транзакция), ```-``` — списание средств (расходная транзакция);\n",
        " - ```term_id``` — идентификатор терминала;\n",
        "\n",
        "\n",
        "#### Таблица ```gender_train.csv```\n",
        "\n",
        "##### Описание\n",
        "Данная таблица содержит информацию по полу для части клиентов, для которых он известен. Для остальных клиентов пол неизвестен.\n",
        "\n",
        "##### Формат данных\n",
        "```\n",
        "customer_id,gender\n",
        "111111,0\n",
        "111112,1\n",
        "...\n",
        "```\n",
        "\n",
        "##### Описание полей\n",
        " - ```customer_id``` — идентификатор клиента;\n",
        " - ```gender``` — пол клиента;\n",
        "\n",
        "### Таблица ```tr_mcc_codes.csv```\n",
        "\n",
        "##### Описание\n",
        "Данная таблица содержит описание mcc-кодов транзакций.\n",
        "\n",
        "##### Формат данных\n",
        "```\n",
        "mcc_code;mcc_description\n",
        "1000;словесное описание mcc-кода 1000\n",
        "2000;словесное описание mcc-кода 2000\n",
        "...\n",
        "```\n",
        "\n",
        "##### Описание полей\n",
        " - ```mcc_code``` – mcc-код транзакции;\n",
        " - ```mcc_description``` — описание mcc-кода транзакции.\n",
        "\n",
        "#### Таблица ```tr_types.csv```\n",
        "\n",
        "##### Описание\n",
        "Данная таблица содержит описание типов транзакций.\n",
        "\n",
        "##### Формат данных\n",
        "```\n",
        "tr_type;tr_description\n",
        "1000;словесное описание типа транзакции 1000\n",
        "2000;словесное описание типа транзакции 2000\n",
        "...\n",
        "```\n",
        "\n",
        "##### Описание полей\n",
        " - ```tr_type``` – тип транзакции;\n",
        " - ```tr_description``` — описание типа транзакции;"
      ]
    },
    {
      "cell_type": "code",
      "metadata": {
        "id": "mqJuy5zBJIBV"
      },
      "source": [
        "df_transactions = pd.read_csv(\"drive/MyDrive/ML/transactions.csv\", nrows=1000000, delimiter=',')\n",
        "df_gender = pd.read_csv(\"drive/MyDrive/ML/gender_train.csv\", delimiter=',')\n",
        "df_mcc_codes = pd.read_csv(\"drive/MyDrive/ML/tr_mcc_codes.csv\", delimiter=';')\n",
        "df_types = pd.read_csv(\"drive/MyDrive/ML/tr_types.csv\", delimiter=';')\n"
      ],
      "execution_count": null,
      "outputs": []
    },
    {
      "cell_type": "markdown",
      "metadata": {
        "id": "04CYsBKz8JeB"
      },
      "source": [
        "\n",
        "Задания 1-4 делаются без использования merge!\n",
        "\n",
        "## Задание 1\n",
        "\n"
      ]
    },
    {
      "cell_type": "markdown",
      "metadata": {
        "id": "1hcrfwsYN_Yz"
      },
      "source": [
        "1. Для столбца tr_type датафрейма transactions выберите произвольные 1000 строк с помощью метода sample\n",
        "2. В полученной на предыдущем этапе подвыборке найдите долю транзакций (стобец tr_description в датасете tr_types), в которой содержится подстрока 'POS' или 'ATM'\n"
      ]
    },
    {
      "cell_type": "code",
      "metadata": {
        "colab": {
          "base_uri": "https://localhost:8080/"
        },
        "id": "fZDQTl8UG5k7",
        "outputId": "3016a20d-3b89-4d6b-e6dc-dbaacc93eaf9"
      },
      "source": [
        "transaction_sample = df_transactions.sample(n=1000)\n",
        "print(transaction_sample.head())\n",
        "\n",
        "pos_or_atm_tr_types_set = set(code for code in df_types.loc[df_types['tr_description'].str.contains(\"АТМ|POS\")].tr_type)\n",
        "\n",
        "pos_or_atm_tr_types_counter = 0\n",
        "for tr in transaction_sample.mcc_code:\n",
        "  if tr in pos_or_atm_tr_types_set:\n",
        "    pos_or_atm_tr_types_counter += 1\n",
        "\n",
        "print(f\"\\nДоля транзакций: {(pos_or_atm_tr_types_counter/len(transaction_sample)*100):.2f}%\")"
      ],
      "execution_count": null,
      "outputs": [
        {
          "output_type": "stream",
          "name": "stdout",
          "text": [
            "        customer_id   tr_datetime  mcc_code  tr_type    amount term_id\n",
            "900011     56436494  116 20:05:13      6011     2010 -13475.49     NaN\n",
            "86942      39193827  281 14:31:54      4814     1030  -1122.96  154949\n",
            "446207     70780820  377 05:29:49      6010     7070  22818.50  888987\n",
            "455921     70780820  432 10:45:29      6010     7070   2919.69  888912\n",
            "428161     70780820  280 03:59:47      6010     7070  26434.43  888986\n",
            "\n",
            "Доля транзакций: 20.60%\n"
          ]
        }
      ]
    },
    {
      "cell_type": "markdown",
      "metadata": {
        "id": "fiZBDIZt8JeS"
      },
      "source": [
        "## Задание 2 \n"
      ]
    },
    {
      "cell_type": "markdown",
      "metadata": {
        "id": "FFKeBUThOCrz"
      },
      "source": [
        "1. Для столбца tr_type датафрейма transactions посчитайте частоту встречаемости всех типов транзакций tr_type в transactions.\n",
        "2. Выведите топ-10 транзакций по частоте встречаемости (вывести для них tr_description тоже)."
      ]
    },
    {
      "cell_type": "code",
      "metadata": {
        "colab": {
          "base_uri": "https://localhost:8080/"
        },
        "id": "nj5E9Ac0POPl",
        "outputId": "a4ebc3ed-7296-4ad8-859b-7db0728c6cfc"
      },
      "source": [
        "n = 10\n",
        "top_10_full = df_transactions['tr_type'].value_counts()[:n]\n",
        "top_10 = top_10_full.index.tolist()\n",
        "\n",
        "print(\"Сколько раз встретился | Код | Описание\")\n",
        "for tr_type in top_10:\n",
        "  print(f\"{top_10_full[tr_type]}\\t|\\t{tr_type}\\t|\\t{df_types.loc[df_types['tr_type'] == tr_type].iloc[0]['tr_description']}\")\n",
        "\n",
        "print(top_10_full)\n",
        "\n",
        "print('============================== Доп. задание ================================')\n",
        "df_tr_with_genders = pd.merge(df_transactions, df_gender, how='left')\n",
        "df_all_mean = df_tr_with_genders.loc[df_tr_with_genders['tr_type'].isin(top_10)].loc[df_transactions['amount'] < 0].groupby('tr_type')['amount'].mean().reset_index(name ='amount')\n",
        "df_0_mean = df_tr_with_genders.loc[df_tr_with_genders['tr_type'].isin(top_10)].loc[df_tr_with_genders['gender'] == 0].loc[df_transactions['amount'] < 0].groupby('tr_type')['amount'].mean().reset_index(name ='gender_0_amount_mean')\n",
        "df_1_mean = df_tr_with_genders.loc[df_tr_with_genders['tr_type'].isin(top_10)].loc[df_tr_with_genders['gender'] == 1].loc[df_transactions['amount'] < 0].groupby('tr_type')['amount'].mean().reset_index(name ='gender_1_amount_mean')\n",
        "\n",
        "df_total = pd.DataFrame()\n",
        "df_total['tr_type'] = df_0_mean['tr_type']\n",
        "df_total['c0'] = df_0_mean['gender_0_amount_mean']/df_all_mean['amount']\n",
        "df_total['c1'] = df_1_mean['gender_1_amount_mean']/df_all_mean['amount']\n",
        "\n",
        "df_total['max_val'] = df_total[[\"c0\", \"c1\"]].max(axis=1)\n",
        "df_total.sort_values(\"max_val\", ascending=False, inplace=True)\n",
        "\n",
        "print(df_total.drop('max_val', axis=1))"
      ],
      "execution_count": null,
      "outputs": [
        {
          "output_type": "stream",
          "name": "stdout",
          "text": [
            "Сколько раз встретился | Код | Описание\n",
            "231117\t|\t1010\t|\tПокупка. POS ТУ СБ РФ\n",
            "151166\t|\t2010\t|\tВыдача наличных в АТМ Сбербанк России\n",
            "149006\t|\t7070\t|\tПеревод на карту (с карты) через Мобильный банк (без взимания комиссии с отправителя)\n",
            "137658\t|\t1110\t|\tПокупка. POS ТУ Россия\n",
            "118975\t|\t1030\t|\tОплата услуги. Банкоматы СБ РФ\n",
            "49830\t|\t2370\t|\tСписание с карты на карту по операции <перевода с карты на карту> через Мобильный банк (без комиссии)\n",
            "28972\t|\t7010\t|\tВзнос наличных через АТМ (в своем тер.банке)\n",
            "26078\t|\t7030\t|\tПеревод на карту (с карты) через АТМ (в пределах одного тер.банка)\n",
            "15781\t|\t7071\t|\tПеревод на карту (с карты) через Мобильный банк (с взиманием комиссии с отправителя)\n",
            "15476\t|\t1100\t|\tПокупка. ТУ  Россия\n",
            "1010    231117\n",
            "2010    151166\n",
            "7070    149006\n",
            "1110    137658\n",
            "1030    118975\n",
            "2370     49830\n",
            "7010     28972\n",
            "7030     26078\n",
            "7071     15781\n",
            "1100     15476\n",
            "Name: tr_type, dtype: int64\n",
            "============================== Доп. задание ================================\n",
            "   tr_type        c0        c1\n",
            "6     7070  1.664000  2.690000\n",
            "5     2370  0.730739  1.399741\n",
            "4     2010  0.809349  1.353489\n",
            "2     1100  0.928608  1.150442\n",
            "1     1030  0.859560  1.121564\n",
            "0     1010  0.984649  1.058086\n",
            "3     1110  0.974583  1.046343\n"
          ]
        }
      ]
    },
    {
      "cell_type": "markdown",
      "metadata": {
        "id": "mktm_JeA8JeX"
      },
      "source": [
        "\n",
        "## Задание 3\n",
        "1. В датафрейме transactions найдите клиента с максимальной суммой приходов на карту\n",
        "2. В датафрейме transactions найдите клиента с максимальной суммой расходов по карте\n",
        "3. Найдите модуль разницы для этих клиентов между суммой расходов и суммой приходов"
      ]
    },
    {
      "cell_type": "code",
      "metadata": {
        "colab": {
          "base_uri": "https://localhost:8080/"
        },
        "id": "VQKM5Y9pYs-X",
        "outputId": "8dcd158b-29d2-4863-d039-5c9ab49ec8f9"
      },
      "source": [
        "most_incoming = df_transactions \\\n",
        "                    .loc[df_transactions['amount'] > 0] \\\n",
        "                    .groupby('customer_id')['amount'] \\\n",
        "                    .sum() \\\n",
        "                    .reset_index(name ='incoming')\n",
        "\n",
        "most_outcoming = df_transactions \\\n",
        "                    .loc[df_transactions['amount'] < 0] \\\n",
        "                    .groupby('customer_id')['amount'] \\\n",
        "                    .sum() \\\n",
        "                    .reset_index(name ='outcoming')\n",
        "\n",
        "# pd.set_option('display.float_format', lambda x: '%.5f' % x)\n",
        "most_incoming_client, most_incoming_sum = most_incoming.loc[most_incoming['incoming'].argmax()]\n",
        "most_outcoming_client, most_outcoming_sum = most_outcoming.loc[most_incoming['incoming'].argmin()]\n",
        "print(\"Клиент с максимальной суммой приходов на карту: \" + str(most_incoming_client))\n",
        "print(\"Клиент с максимальной суммой расходов по карте: \" + str(most_outcoming_client))\n",
        "print(f\"Модуль разницы: {most_incoming_sum - most_outcoming_sum}\")\n",
        "# ,most_incoming, most_outcoming"
      ],
      "execution_count": null,
      "outputs": [
        {
          "output_type": "stream",
          "name": "stdout",
          "text": [
            "Клиент с максимальной суммой приходов на карту: 70780820.0\n",
            "Клиент с максимальной суммой расходов по карте: 68273832.0\n",
            "Модуль разницы: 1288934303.530022\n"
          ]
        }
      ]
    },
    {
      "cell_type": "markdown",
      "metadata": {
        "id": "BYrJ5b_E8Jee"
      },
      "source": [
        "## Задание 4\n",
        "1. Найдите среднее арифметическое и медиану по amount по всем типам транзакций из топ 10 из задания 2\n",
        "1. Найдите среднее арифметическое и медиану по amount по всем типам транзакций для клиентов из задания 3"
      ]
    },
    {
      "cell_type": "code",
      "metadata": {
        "colab": {
          "base_uri": "https://localhost:8080/"
        },
        "id": "ByStLKq3lwvC",
        "outputId": "493ced46-ae0d-4adb-98b7-b608d8d4e81d"
      },
      "source": [
        "print(\"Тип транзакции | Среднее значение | Медианное значение\")\n",
        "for tr_type in top_10:\n",
        "  print(f\"{tr_type} \\t|\\t \\\n",
        "  {df_transactions.loc[df_transactions['tr_type'] == tr_type]['amount'].mean()} \\t|\\t \\\n",
        "  {df_transactions.loc[df_transactions['tr_type'] == tr_type]['amount'].median()}\")\n",
        "\n",
        "print(\"\\nСреднее значение по amount у +клиента: \" + \\\n",
        "      str(df_transactions.loc[df_transactions['customer_id'] == most_incoming_client]['amount'].mean()) + \\\n",
        "      \"\\nМедианное значение по amount у +клиента: \" + \\\n",
        "      str(df_transactions.loc[df_transactions['customer_id'] == most_incoming_client]['amount'].median()))\n",
        "print(\"\\nСреднее значение по amount у -клиента: \" + \\\n",
        "      str(df_transactions.loc[df_transactions['customer_id'] == most_outcoming_client]['amount'].mean()) + \\\n",
        "      \"\\nМедианное значение по amount у -клиента: \" + \\\n",
        "      str(df_transactions.loc[df_transactions['customer_id'] == most_outcoming_client]['amount'].median()))"
      ],
      "execution_count": null,
      "outputs": [
        {
          "output_type": "stream",
          "name": "stdout",
          "text": [
            "Тип транзакции | Среднее значение | Медианное значение\n",
            "1010 \t|\t   -19784.748639648507 \t|\t   -7411.52\n",
            "2010 \t|\t   -136077.62932505234 \t|\t   -44918.32\n",
            "7070 \t|\t   65569.83170018934 \t|\t   11319.42\n",
            "1110 \t|\t   -32119.330370770458 \t|\t   -11207.57\n",
            "1030 \t|\t   -5320.980221811316 \t|\t   -2245.92\n",
            "2370 \t|\t   -205418.24903167944 \t|\t   -44918.32\n",
            "7010 \t|\t   276391.7895961331 \t|\t   112295.79\n",
            "7030 \t|\t   86104.33290896451 \t|\t   13951.52\n",
            "7071 \t|\t   66806.82662251407 \t|\t   3593.47\n",
            "1100 \t|\t   -44061.82726156657 \t|\t   -10188.259999999998\n",
            "\n",
            "Среднее значение по amount у +клиента: -20.694945765418275\n",
            "Медианное значение по amount у +клиента: 8803.99\n",
            "\n",
            "Среднее значение по amount у -клиента: -44572.33801408431\n",
            "Медианное значение по amount у -клиента: -14927.03\n"
          ]
        }
      ]
    },
    {
      "cell_type": "markdown",
      "metadata": {
        "id": "BYXwM4l3QDBu"
      },
      "source": [
        "## Подготовка для заданий 5-8"
      ]
    },
    {
      "cell_type": "markdown",
      "metadata": {
        "id": "XWQzFeKcQHRe"
      },
      "source": [
        "*Из заданий 5-8 нужно выполнить минимум два любых*\n",
        "\n",
        "Соедините transactions с всеми остальными таблицами (tr_mcc_codes, tr_types, gender_train). Причём с gender_train необходимо смёрджиться с помощью left join, а с оставшимися датафреймами - через inner.\n",
        "После получения результата таблицы gender_train, tr_types, tr_mcc_codes можно удалить. В результате соединения датафреймов должно получиться 999584 строки."
      ]
    },
    {
      "cell_type": "code",
      "metadata": {
        "id": "sndJxjJ7QQf5",
        "colab": {
          "base_uri": "https://localhost:8080/"
        },
        "outputId": "f6968e99-16dd-44ef-9624-4e4c7cc10ccc"
      },
      "source": [
        "transactions = pd.merge(df_transactions, df_gender, how='left')\n",
        "transactions = pd.merge(transactions, df_mcc_codes, how='inner')\n",
        "transactions = pd.merge(transactions, df_types, how='inner')\n",
        "transactions.shape"
      ],
      "execution_count": null,
      "outputs": [
        {
          "output_type": "execute_result",
          "data": {
            "text/plain": [
              "(999584, 9)"
            ]
          },
          "metadata": {},
          "execution_count": 58
        }
      ]
    },
    {
      "cell_type": "markdown",
      "metadata": {
        "id": "8vrFauJ8QgmT"
      },
      "source": [
        "## Задание 5"
      ]
    },
    {
      "cell_type": "markdown",
      "metadata": {
        "id": "rOjEQ5xyQfE_"
      },
      "source": [
        "1. Определите модуль разницы между средними тратами женщин и мужчин (трата - отрицательное значение amount).\n",
        "2. Определите модуль разницы между средними поступлениями у мужчин и женщин\n",
        "\n",
        "Обратите внимание, что для вычисления модуля разности точных знаний о том, \n",
        "какой класc относится к мужчинам, а какой - к женщинам, не требуется."
      ]
    },
    {
      "cell_type": "code",
      "metadata": {
        "colab": {
          "base_uri": "https://localhost:8080/"
        },
        "id": "ixVeh119rpnT",
        "outputId": "bb5df586-5279-40c6-f9a9-c8f1a9074f01"
      },
      "source": [
        "print(abs(transactions.loc[transactions['gender'] == 0].loc[df_transactions['amount'] < 0]['amount'].mean()) - \\\n",
        "abs(transactions.loc[transactions['gender'] == 1].loc[df_transactions['amount'] < 0]['amount'].mean()))\n",
        "\n",
        "print(abs(transactions.loc[transactions['gender'] == 0].loc[df_transactions['amount'] > 0]['amount'].mean()) - \\\n",
        "abs(transactions.loc[transactions['gender'] == 1].loc[df_transactions['amount'] > 0]['amount'].mean()))"
      ],
      "execution_count": null,
      "outputs": [
        {
          "output_type": "stream",
          "name": "stdout",
          "text": [
            "-3803.8826275945357\n",
            "1080.109270502995\n"
          ]
        }
      ]
    },
    {
      "cell_type": "markdown",
      "metadata": {
        "id": "DSHFLbepQ7G1"
      },
      "source": [
        "## Задание 6"
      ]
    },
    {
      "cell_type": "markdown",
      "metadata": {
        "id": "2EF1490bQ-17"
      },
      "source": [
        "1. По всем типам транзакций рассчитайте максимальную сумму прихода на карту (из строго положительных сумм по столбцу amount) отдельно для мужчин и женщин (назовите ее \"max_income\"). Оставьте по 10 типов транзакций для мужчин и для женщин, наименьших среди всех типов транзакций по полученным значениям \"max_income\". \n",
        "2. Выделите среди них те типы транзакций, которые встречаются одновременно и у мужчин, и у женщин"
      ]
    },
    {
      "cell_type": "code",
      "metadata": {
        "colab": {
          "base_uri": "https://localhost:8080/"
        },
        "id": "YANiSw2MswiY",
        "outputId": "b1d8882f-f637-4c9c-e409-0d028f3022c3"
      },
      "source": [
        "gender_0_mean = transactions.loc[transactions['gender'] == 0].loc[transactions['amount'] > 0].groupby('tr_type')['amount'].mean().reset_index(name ='max_income')\n",
        "gender_1_mean = transactions.loc[transactions['gender'] == 1].loc[transactions['amount'] > 0].groupby('tr_type')['amount'].mean().reset_index(name ='max_income')\n",
        "\n",
        "gender_0_mean = gender_0_mean.sort_values('max_income')[:10]\n",
        "gender_1_mean = gender_1_mean.sort_values('max_income')[:10]\n",
        "\n",
        "print(gender_0_mean)\n",
        "print(gender_1_mean)\n",
        "\n",
        "print(pd.merge(gender_0_mean, gender_1_mean, on=['tr_type']))\n"
      ],
      "execution_count": null,
      "outputs": [
        {
          "output_type": "stream",
          "name": "stdout",
          "text": [
            "    tr_type  max_income\n",
            "10     4051  1122.96000\n",
            "13     4210  2245.92000\n",
            "12     4110  2245.92000\n",
            "9      2370  2335.75000\n",
            "11     4100  5041.86000\n",
            "36     7075  6737.75000\n",
            "0      1010 15766.33000\n",
            "6      2110 22459.16000\n",
            "18     6200 27212.88632\n",
            "5      2010 33688.74000\n",
            "    tr_type  max_income\n",
            "6      2020  2245.92000\n",
            "9      4110  2245.92000\n",
            "0      1010 17658.51500\n",
            "2      1110 36752.08342\n",
            "29     7070 41528.73745\n",
            "1      1100 47052.03500\n",
            "14     6200 54222.33965\n",
            "5      2010 56147.89750\n",
            "23     7030 58463.29390\n",
            "4      1210 61871.34000\n",
            "   tr_type  max_income_x  max_income_y\n",
            "0     4110    2245.92000    2245.92000\n",
            "1     1010   15766.33000   17658.51500\n",
            "2     6200   27212.88632   54222.33965\n",
            "3     2010   33688.74000   56147.89750\n"
          ]
        }
      ]
    },
    {
      "cell_type": "markdown",
      "metadata": {
        "id": "W-LaVwRdR3UB"
      },
      "source": [
        "## Задание 7"
      ]
    },
    {
      "cell_type": "markdown",
      "metadata": {
        "id": "rhI4NOciR7e0"
      },
      "source": [
        "1. Найдите суммы затрат по каждой категории (mcc) для мужчин и для женщин. \n",
        "2. Найдите топ 10 категорий с самыми большими относительными модулями разности в тратах для разных полов (в ответе должны присутствовать описания mcc кодов)."
      ]
    },
    {
      "cell_type": "code",
      "metadata": {
        "colab": {
          "base_uri": "https://localhost:8080/"
        },
        "id": "C6el3g_T2eYc",
        "outputId": "f125aaa0-e303-426e-db7f-540c23a9f3ff"
      },
      "source": [
        "gender_0_sum = transactions.loc[transactions['gender'] == 0].groupby('mcc_code')['amount'].sum().reset_index(name ='summ')\n",
        "gender_1_sum = transactions.loc[transactions['gender'] == 1].groupby('mcc_code')['amount'].sum().reset_index(name ='summ')\n",
        "\n",
        "gender_0_sum['diff'] = gender_0_sum['summ'] - gender_1_sum['summ']\n",
        "\n",
        "df_diff = pd.merge(gender_0_sum, df_mcc_codes)\n",
        "\n",
        "df_diff['diff'] = df_diff['diff'].abs()\n",
        "\n",
        "print(df_diff.sort_values('diff', ascending=False)[:10].to_string())"
      ],
      "execution_count": null,
      "outputs": [
        {
          "output_type": "stream",
          "name": "stdout",
          "text": [
            "     mcc_code              summ             diff                                         mcc_description\n",
            "118      5995    -7177196.64000 6143488461.75953                                             Зоомагазины\n",
            "22       4899     -426826.40000 6012281541.06969         Кабельные и другие платные телевизионные услуги\n",
            "119      5999   -52682982.42000 4789155113.51895                      Плавательные бассейны — распродажа\n",
            "21       4829 -3513723644.91983 3507846810.06983                                       Денежные переводы\n",
            "120      6010  3461861161.82986 3404315578.62986        Финансовые институты — снятие наличности вручную\n",
            "121      6011 -2645361971.10999 2638592429.49999  Финансовые институты — снятие наличности автоматически\n",
            "54       5399    -8081165.94000  591868301.76000                      Различные товары общего назначения\n",
            "55       5411  -577647951.57001  576805369.55001                       Бакалейные магазины, супермаркеты\n",
            "63       5533   -12661398.49000  192920590.86000                               Автозапчасти и аксессуары\n",
            "20       4816    -2698557.18000  171064981.92000                 Компьютерная сеть/информационные услуги\n"
          ]
        }
      ]
    },
    {
      "cell_type": "markdown",
      "metadata": {
        "id": "aGaPkQkVSvl8"
      },
      "source": [
        "## Задание 8"
      ]
    },
    {
      "cell_type": "markdown",
      "metadata": {
        "id": "T7Ox1qAXTHQl"
      },
      "source": [
        "1. Из поля tr_datetime выделите час tr_hour, в который произошла транзакция, как первые 2 цифры до \":\". (\\**)\n",
        "2. Посчитайте количество транзакций с amount<0 в ночное время для мужчин и женщин. Ночное время - это примерно 00-06 часов. "
      ]
    },
    {
      "cell_type": "code",
      "metadata": {
        "colab": {
          "base_uri": "https://localhost:8080/"
        },
        "id": "J9nXggaqGjuo",
        "outputId": "9c343cfc-cb7a-4273-a506-3ebded8f3691"
      },
      "source": [
        "gender_0_night = transactions.loc[transactions['tr_datetime'].str.split().str[1].str[:2].astype('int32') <= 5].loc[transactions['gender'] == 0].loc[transactions['amount'] < 0]\n",
        "gender_1_night = transactions.loc[transactions['tr_datetime'].str.split().str[1].str[:2].astype('int32') <= 5].loc[transactions['gender'] == 1].loc[transactions['amount'] < 0]\n",
        "print(len(gender_0_night))\n",
        "print(len(gender_1_night))"
      ],
      "execution_count": null,
      "outputs": [
        {
          "output_type": "stream",
          "name": "stdout",
          "text": [
            "38827\n",
            "43017\n"
          ]
        }
      ]
    }
  ]
}