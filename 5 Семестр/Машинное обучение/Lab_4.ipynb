{
  "cells": [
    {
      "cell_type": "markdown",
      "metadata": {
        "id": "hGClrhQA9SAk"
      },
      "source": [
        "# Деревья решений"
      ]
    },
    {
      "cell_type": "markdown",
      "metadata": {
        "id": "veekMy8WRjBi"
      },
      "source": [
        "## Построение дерева"
      ]
    },
    {
      "cell_type": "markdown",
      "metadata": {
        "id": "SYkVwAFiUHXj"
      },
      "source": [
        "Опишем жадный алгоритм построения бинарного дерева решений:\n",
        "1. Начинаем со всей обучающей выборки $X$, которую помещаем в корень $R_1$. \n",
        "2. Задаём функционал качества $Q(X, j, t)$ и критерий остановки. \n",
        "3. Запускаем построение из корня: $SplitNode(1, R_1)$\n",
        "\n",
        "Функция $SplitNode(m, R_m)$\n",
        "1. Если выполнен критерий остановки, то выход.\n",
        "2. Находим наилучший с точки зрения $Q$ предикат: $j, t$: $[x_j<t]$\n",
        "3. Помещаем предикат в вкршину и получаем с его помощью разбиение $X$ на две части: $R_{left} = \\lbrace x|x_j<t \\rbrace$ и $R_{right} = \\lbrace x|x_j \\geqslant t \\rbrace$\n",
        "4. Поместим $R_{left}$ и $R_{right}$ соответсвенно в левое и правое поддерево.\n",
        "5. Рекурсивно повторяем $SplitNode(left, R_{left})$ и $SplitNode(right, R_{right})$.\n",
        "\n",
        "В конце поставим в соответствие каждому листу ответ. Для задачи классификации - это самый частый среди объектов класс или вектор с долями классов (можно интерпретировать как вероятности):\n",
        "$$ c_v = \\arg \\max_{k\\in Y} \\sum_{(x_i,y_i) \\in R_v} [y_i=k]  $$"
      ]
    },
    {
      "cell_type": "markdown",
      "metadata": {
        "id": "9P6FsdBog4Ai"
      },
      "source": [
        "## Функционал качества для деревьев решений\n"
      ]
    },
    {
      "cell_type": "markdown",
      "metadata": {
        "id": "9VAKO0aykGBD"
      },
      "source": [
        "Энтропия Шеннона для системы с N возможными состояниями определяется по формуле:\n",
        "$$H = - \\sum_{i=0}^{N} p_i\\log_2p_i $$"
      ]
    },
    {
      "cell_type": "markdown",
      "metadata": {
        "id": "5582B-1Fn2bw"
      },
      "source": [
        "где $p_i$ – вероятности нахождения системы в $i$-ом состоянии. \n",
        "\n",
        "Это очень важное понятие теории информации, которое позволяет оценить количество информации (степень хаоса в системе). Чем выше энтропия, тем менее упорядочена система и наоборот. С помощью энтропии мы формализуем функционал качества для разделение выборки (для задачи классификации)."
      ]
    },
    {
      "cell_type": "code",
      "execution_count": null,
      "metadata": {
        "id": "PbcMUd7bvk05"
      },
      "outputs": [],
      "source": [
        "import numpy as np\n",
        "import pandas as pd\n",
        "\n",
        "import matplotlib.pyplot as plt\n",
        "\n",
        "import random\n",
        "from pprint import pprint\n",
        "\n",
        "from sklearn.datasets import load_iris\n",
        "from sklearn.model_selection import train_test_split\n",
        "from sklearn.metrics import accuracy_score\n",
        "import numpy as np\n",
        "from math import inf, floor\n",
        "from sklearn.tree import DecisionTreeClassifier"
      ]
    },
    {
      "cell_type": "markdown",
      "metadata": {
        "id": "4AdLxP9CowTm"
      },
      "source": [
        "Код для расчёта энтропии:"
      ]
    },
    {
      "cell_type": "code",
      "execution_count": null,
      "metadata": {
        "id": "2mT8Jq8Av2sM"
      },
      "outputs": [],
      "source": [
        "def entropy(y):\n",
        "    \n",
        "    _, counts = np.unique(y, return_counts=True)\n",
        "\n",
        "    probabilities = counts / counts.sum()\n",
        "    entropy = sum(probabilities * -np.log2(probabilities))\n",
        "     \n",
        "    return entropy"
      ]
    },
    {
      "cell_type": "markdown",
      "metadata": {
        "id": "Xk9etb2vo7fK"
      },
      "source": [
        "Здесь $y$ - это массив значений целевой переменной"
      ]
    },
    {
      "cell_type": "markdown",
      "metadata": {
        "id": "07TCw0USzLus"
      },
      "source": [
        "Энтропия – по сути степень хаоса (или неопределенности) в системе. Уменьшение энтропии называют приростом информации (information gain, IG).\n",
        "\n",
        "Обочначим $R_v$ - объекты, которые нужно разделить в помощью предиката в вершине $v$. Запишем формулу для расчёта информационного прироста:\n",
        "$$ Q = IG = H(R_v) - (H(R_{left})+H(R_{right}))$$\n",
        "\n",
        "На каждом шаге нам нужно максимизировать этот функционал качества. Как это делать? Например, так можно перебрать $t$ для выбранного $j$."
      ]
    },
    {
      "cell_type": "markdown",
      "metadata": {
        "id": "trEWHDoXg_p9"
      },
      "source": [
        "Предыдущая версия формулы прироста информации слишком упрощена. В работе необходимо использовать более устойчивую формулу, которая учитывает не только энтропию подмножеств, но и их размер. \n",
        "\n",
        "$$ Q = IG = H(R_v) - \\Big (\\frac{|R_{left}|} {|R_{v}|} H(R_{left})+ \\frac{|R_{right}|} {|R_{v}|} H(R_{right})\\Big)$$\n",
        "\n",
        "где, $|R_{v}|$, $|R_{left}|$ и $|R_{right}|$ - количество элементов в соответствующих множествах."
      ]
    },
    {
      "cell_type": "markdown",
      "metadata": {
        "id": "9xmN6V_N1xBr"
      },
      "source": [
        "\n",
        "### Задание 4.1"
      ]
    },
    {
      "cell_type": "markdown",
      "metadata": {
        "id": "nWFHZScF2CBF"
      },
      "source": [
        "Реализуйте алгоритм построения дерева. Должны быть отдельные функции (методы) для расчёта энтропии (уже есть), для разделения дерева (используйте `pandas`), для подсчёта функционала качества $IG$, для выбора наилучшего разделения (с учетом признакоd и порогов), для проверки критерия остановки.\n",
        "\n",
        "Для набора данных `iris` реализуйте алгоритм и минимум три из разными критерия остановки из перечисленных ниже:\n",
        "* максимальной глубины дерева = 5\n",
        "* минимального числа объектов в листе = 5\n",
        "* максимальное количество листьев в дереве = 5\n",
        "* purity (остановка, если все объекты в листе относятся к одному классу)\n",
        "\n",
        "Реализуйте функцию `predict` (на вход функции подаётся датафрейм с объектами)\n",
        "\n",
        "Оцените точность каждой модели с помощью метрики точность (`from sklearn.metrics import accuracy_score` или реализовать свою)."
      ]
    },
    {
      "cell_type": "code",
      "execution_count": null,
      "metadata": {
        "id": "ObNYLVPOv6VS"
      },
      "outputs": [],
      "source": [
        "class DT:\n",
        "\tclass Node:\n",
        "\t\tdef __init__(self, data, left_child, right_child, feature, split_value, ig):\n",
        "\t\t\tself.data = data\n",
        "\t\t\tself.left_child = left_child\n",
        "\t\t\tself.right_child = right_child\n",
        "\t\t\tself.feature = feature\n",
        "\t\t\tself.split_value = split_value\n",
        "\t\t\tself.ig = ig\n",
        "\n",
        "\tclass Leaf(Node):\n",
        "\t\tdef __init__(self, data):\n",
        "\t\t\tsuper().__init__(data, None, None, None, None, None)\n",
        "\t\t\tcategories = dict()\n",
        "\t\t\tfor v in data.iloc[:, -1]:\n",
        "\t\t\t\tif v not in categories:\n",
        "\t\t\t\t\tcategories[v] = 0\n",
        "\t\t\t\telse:\n",
        "\t\t\t\t\tcategories[v] += 1\n",
        "\t\t\tself.category = max(categories, key=categories.get)\n",
        "\n",
        "\tdef __init__(self, max_depth=inf, min_objects_in_leaf=0, max_leaves_count=inf, min_purity=0.0):\n",
        "\t\tself.max_depth = max_depth\n",
        "\t\tself.min_objects_in_leaf = min_objects_in_leaf\n",
        "\t\tself.max_leaves_count = max_leaves_count\n",
        "\t\tself.min_purity = min_purity\n",
        "\n",
        "\t\tself.current_depth = 0\n",
        "\t\tself.current_leaves_count = 0\n",
        "\t\tself.root = None\n",
        "\n",
        "\tdef _IG(self, parent, left_child, right_child):\n",
        "\t\tH = entropy\n",
        "\t\treturn H(parent) - (len(left_child) / len(parent) * H(left_child) +\n",
        "\t\t\t\t\t\t\tlen(right_child) / len(parent) * H(right_child))\n",
        "\n",
        "\tdef _split(self, data, feature, value):\n",
        "\t\treturn [data[data[feature] <= value],\n",
        "\t\t\t\tdata[data[feature] > value]]\n",
        "\n",
        "\tdef _check_min_objects_in_leaf(self, *slices):\n",
        "\t\tfor s in slices:\n",
        "\t\t\tif len(s.index) < self.min_objects_in_leaf:\n",
        "\t\t\t\treturn False\n",
        "\t\treturn True\n",
        "\n",
        "\tdef _find_best_split(self, xy):\n",
        "\t\tbest_ig_value = 0\n",
        "\t\tbest_split_info = None\n",
        "\t\tx = xy.iloc[:, :-1]\n",
        "\t\ty = xy.iloc[:, -1]\n",
        "\n",
        "\t\tfor feature in x:\n",
        "\t\t\tf = x[feature]\n",
        "\t\t\tfor value in f:\n",
        "\t\t\t\tleft_side, right_side = self._split(xy, feature, value)\n",
        "\t\t\t\tif self._check_min_objects_in_leaf(left_side, right_side):\n",
        "\t\t\t\t\tig_value = self._IG(y,\n",
        "\t\t\t\t\t\t\t\t\t\tleft_side.iloc[:, -1],\n",
        "\t\t\t\t\t\t\t\t\t\tright_side.iloc[:, -1])\n",
        "\t\t\t\t\tif ig_value > best_ig_value:\n",
        "\t\t\t\t\t\tbest_ig_value = ig_value\n",
        "\t\t\t\t\t\tbest_split_info = {\n",
        "\t\t\t\t\t\t\t'feature': feature,\n",
        "\t\t\t\t\t\t\t'value': value,\n",
        "\t\t\t\t\t\t\t'ig': best_ig_value\n",
        "\t\t\t\t\t\t}\n",
        "\t\treturn best_split_info\n",
        "\n",
        "\n",
        "\tdef _node_builder(self, xy, depth_in_node=0):\n",
        "\t\tif depth_in_node < self.max_depth and self.current_leaves_count + 1 < self.max_leaves_count:\n",
        "\t\t\tbest_split = self._find_best_split(xy)\n",
        "\t\t\tif best_split is not None and best_split['ig'] > self.min_purity:\n",
        "\t\t\t\tleft_child_data, right_child_data = self._split(xy, best_split['feature'], best_split['value'])\n",
        "\t\t\t\tself.current_leaves_count += 1\n",
        "\t\t\t\treturn self.Node(xy,\n",
        "\t\t\t\t\t\t\t\t self._node_builder(left_child_data, depth_in_node+1),\n",
        "\t\t\t\t\t\t\t\t self._node_builder(right_child_data, depth_in_node+1),\n",
        "\t\t\t\t\t\t\t\t best_split['feature'],\n",
        "\t\t\t\t\t\t\t\t best_split['value'],\n",
        "\t\t\t\t\t\t\t\t best_split['ig'])\n",
        "\t\treturn self.Leaf(xy)\n",
        "\n",
        "\tdef _predict_from(self, x, node):\n",
        "\t\tif isinstance(node, DT.Leaf):\n",
        "\t\t\treturn node.category\n",
        "\n",
        "\t\tif x[node.feature] <= node.split_value:\n",
        "\t\t\treturn self._predict_from(x, node.left_child)\n",
        "\t\telse:\n",
        "\t\t\treturn self._predict_from(x, node.right_child)\n",
        "\n",
        "\tdef fit(self, x, y):\n",
        "\t\txy = pd.concat([x, y], axis=1)\n",
        "\t\tself.root = self._node_builder(xy)\n",
        "\n",
        "\tdef predict(self, x):\n",
        "\t\treturn [self._predict_from(r, self.root) for _, r in x.iterrows()]\n"
      ]
    },
    {
      "cell_type": "code",
      "execution_count": null,
      "metadata": {
        "id": "AdDglgtwv6VT",
        "outputId": "10eaebee-d4e0-46c1-e910-a0aa93d2cc16"
      },
      "outputs": [
        {
          "name": "stdout",
          "output_type": "stream",
          "text": [
            "0.9737\n",
            "0.7105\n",
            "0.9474\n",
            "0.9737\n"
          ]
        }
      ],
      "source": [
        "data = load_iris()\n",
        "data = pd.DataFrame(data=np.c_[data['data'], data['target']], columns=data['feature_names'] + ['target'])\n",
        "\n",
        "x_train, x_test, y_train, y_test = train_test_split(data.iloc[:, :-1], data.iloc[:, -1], random_state=42)\n",
        "trees = [\n",
        "        DT(max_depth=2),\n",
        "        DT(min_objects_in_leaf=50),\n",
        "        DT(max_leaves_count=15),\n",
        "        DT(min_purity=0.3),\n",
        "]\n",
        "\n",
        "res = []\n",
        "for tree in trees:\n",
        "\ttree.fit(x_train, y_train)\n",
        "\tres.append(tree.predict(x_test))\n",
        "\n",
        "for r in res:\n",
        "\tprint(\"{:3.4f}\".format(accuracy_score(r, y_test)))"
      ]
    },
    {
      "cell_type": "markdown",
      "metadata": {
        "id": "BkyCjLcy_CTM"
      },
      "source": [
        "##  Случайный лес"
      ]
    },
    {
      "cell_type": "markdown",
      "metadata": {
        "id": "7fKZe1FyRgCa"
      },
      "source": [
        "Опишем алгоритм случайный лес (*random forest*) и попутно разберём основные идеи:\n",
        "\n",
        "1. Зададим $N$ - число деревьев в лесу.\n",
        "2. Для каждого $n$ из $N$ сгенерируем свою выборку $X_n$. Пусть $m$ - это количество объектов в $X$. При генерации каждой $X_n$ мы будем брать объекты $m$ раз с возвращением. То есть один и тот же объект может попасть в выборку несколько раз, а какие-то объекты не попадут. (Этот способ назвается бутстрап).\n",
        "3. По каждой $X_n$ построим решающее дерево $b_n$. Обычно стараются делать глубокие деревья. В качестве критериев остановки можно использовать `max_depth` или `min_samples_leaf` (например, пока в каждом листе не окажется по одному объекту). При каждом разбиении сначала выбирается $k$ (эвристика $k = \\sqrt d$, где $d$ - это число признаков объектов из выборки $X$) случайных признаков из исходных, и оптимальное разделение выборки ищется только среди них. Обратите внимание, что мы не выбрасываем оставшиеся признаки!\n",
        "4. Итоговый алгоритм будет представлять собой результат голосования (для классификации) и среднее арифметическое (для регрессии). Модификация алгоритма предполагает учёт весов каждого отдельного слабого алгоритма в ансамбле, но в этом особо нет смысла.\n"
      ]
    },
    {
      "cell_type": "markdown",
      "metadata": {
        "id": "YJBQ8lc0WyrN"
      },
      "source": [
        "### Задание 4.2"
      ]
    },
    {
      "cell_type": "markdown",
      "metadata": {
        "id": "y594Jn04ZTCm"
      },
      "source": [
        "В качестве набора данных используйте: https://www.kaggle.com/mathchi/churn-for-bank-customers\n",
        "\n",
        "Там есть описание и примеры работы с этими данными. Если кратко, речь идёт про задачу прогнозирования оттока клиентов. Есть данные о 10 тысячах клиентов банка, часть из которых больше не являются клиентами."
      ]
    },
    {
      "cell_type": "markdown",
      "metadata": {
        "id": "be_mLbdVW2oG"
      },
      "source": [
        "Используя либо свою реализацию, либо  `DecisionTreeClassifier` с разными настройками из `sklearn.tree` реализйте алгоритм \"случайный лес\". \n",
        "\n",
        "Найдите наилучшие гиперпараметры этого алгоритма: количество деревьев, критерий остановки, функционал качества, минимальное количество объектов в листьях и другие.\n",
        "\n",
        "Нельзя использовать готовую реализацию случайного леса из `sklearn`.\n",
        "\n",
        "В подобных задачах очень важна интерпретируемость алгоритма. Попытайтесь оценить информативность признаков, т.е. ответить а вопрос, значения каких признаков являются самыми важными индикаторами того, что банк потеряет клиента."
      ]
    },
    {
      "cell_type": "code",
      "execution_count": null,
      "metadata": {
        "id": "VskH1Hcyv6VW"
      },
      "outputs": [],
      "source": [
        "class RF:\n",
        "\tdef __init__(self, trees_amount=5, data_samples_part=0.2, max_depth=5, min_objects_in_leaf=2, max_leaves_count=None, min_purity=0.0):\n",
        "\t\tself.trees_amount = trees_amount\n",
        "\t\tself.data_samples_part = data_samples_part\n",
        "\t\tself.data_samples_size = None\n",
        "\t\tself.trees = []\n",
        "\n",
        "\t\tself.max_depth = max_depth\n",
        "\t\tself.min_objects_in_leaf = min_objects_in_leaf\n",
        "\t\tself.max_leaves_count = max_leaves_count\n",
        "\t\tself.min_purity = min_purity\n",
        "\n",
        "\tdef _get_samples(self, x, y):\n",
        "\t\tindexes = np.random.choice(self.data_samples_size, self.data_samples_size)\n",
        "\t\treturn x.iloc[indexes], y.iloc[indexes]\n",
        "\n",
        "\tdef fit(self, x, y):\n",
        "\t\tself.data_samples_size = floor(len(x.index)*self.data_samples_part)\n",
        "\t\tfor i in range(self.trees_amount):\n",
        "# \t\t\tprint(f'{i+1}/{self.trees_amount}')\n",
        "\t\t\tt = DecisionTreeClassifier(max_depth=self.max_depth, \n",
        "\t\t\t                           min_samples_split=self.min_objects_in_leaf, \n",
        "\t\t\t\t\t\t\t\t\t\t\t\t\t\t\t\t max_leaf_nodes=self.max_leaves_count, \n",
        "\t\t\t\t\t\t\t\t\t\t\t\t\t\t\t\t min_impurity_decrease=self.min_purity,\n",
        "\t\t\t\t\t\t\t\t\t\t\t\t\t\t\t\t max_features=\"sqrt\")\n",
        "\t\t\tx_samples, y_samples = self._get_samples(x, y)\n",
        "\t\t\tt.fit(x_samples, y_samples)\n",
        "\t\t\tself.trees.append(t)\n",
        "\n",
        "\tdef predict(self, x):\n",
        "\t\tpredictions = []\n",
        "\t\tfor t in self.trees:\n",
        "\t\t\tpredictions.append(t.predict(x))\n",
        "\t\tpredictions = np.swapaxes(predictions, 0, 1)\n",
        "\t\tres = []\n",
        "\t\tfor p in predictions:\n",
        "\t\t\tres.append(most_common(p))\n",
        "\t\treturn res\n",
        "\n",
        "\tdef get_feature_importance(self, x, y, normal_accuracy=0.85):\n",
        "\t\tres = dict()\n",
        "\t\tfor feature in x:\n",
        "\t\t\ttmp_x = x.copy()\n",
        "\t\t\ttmp_x[feature] = np.random.permutation(tmp_x[feature].values)\n",
        "\t\t\tprediction = self.predict(tmp_x)\n",
        "\t\t\tres[feature] = (normal_accuracy - accuracy_score(prediction, y)) * 100\n",
        "\t\treturn dict(sorted(res.items(), key=lambda item: item[1], reverse=True))\n",
        "\n",
        "\n",
        "def most_common(lst):\n",
        "\treturn np.argmax(np.bincount(lst))"
      ]
    },
    {
      "cell_type": "code",
      "execution_count": null,
      "metadata": {
        "scrolled": true,
        "id": "Fr6gA0Zjv6VW",
        "outputId": "4cd66d0f-1797-4c38-8752-e565809fc95d"
      },
      "outputs": [
        {
          "data": {
            "text/html": [
              "<div>\n",
              "<style scoped>\n",
              "    .dataframe tbody tr th:only-of-type {\n",
              "        vertical-align: middle;\n",
              "    }\n",
              "\n",
              "    .dataframe tbody tr th {\n",
              "        vertical-align: top;\n",
              "    }\n",
              "\n",
              "    .dataframe thead th {\n",
              "        text-align: right;\n",
              "    }\n",
              "</style>\n",
              "<table border=\"1\" class=\"dataframe\">\n",
              "  <thead>\n",
              "    <tr style=\"text-align: right;\">\n",
              "      <th></th>\n",
              "      <th>RowNumber</th>\n",
              "      <th>CustomerId</th>\n",
              "      <th>Surname</th>\n",
              "      <th>CreditScore</th>\n",
              "      <th>Geography</th>\n",
              "      <th>Gender</th>\n",
              "      <th>Age</th>\n",
              "      <th>Tenure</th>\n",
              "      <th>Balance</th>\n",
              "      <th>NumOfProducts</th>\n",
              "      <th>HasCrCard</th>\n",
              "      <th>IsActiveMember</th>\n",
              "      <th>EstimatedSalary</th>\n",
              "      <th>Exited</th>\n",
              "    </tr>\n",
              "  </thead>\n",
              "  <tbody>\n",
              "    <tr>\n",
              "      <th>0</th>\n",
              "      <td>1</td>\n",
              "      <td>15634602</td>\n",
              "      <td>Hargrave</td>\n",
              "      <td>619</td>\n",
              "      <td>France</td>\n",
              "      <td>Female</td>\n",
              "      <td>42</td>\n",
              "      <td>2</td>\n",
              "      <td>0.00</td>\n",
              "      <td>1</td>\n",
              "      <td>1</td>\n",
              "      <td>1</td>\n",
              "      <td>101348.88</td>\n",
              "      <td>1</td>\n",
              "    </tr>\n",
              "    <tr>\n",
              "      <th>1</th>\n",
              "      <td>2</td>\n",
              "      <td>15647311</td>\n",
              "      <td>Hill</td>\n",
              "      <td>608</td>\n",
              "      <td>Spain</td>\n",
              "      <td>Female</td>\n",
              "      <td>41</td>\n",
              "      <td>1</td>\n",
              "      <td>83807.86</td>\n",
              "      <td>1</td>\n",
              "      <td>0</td>\n",
              "      <td>1</td>\n",
              "      <td>112542.58</td>\n",
              "      <td>0</td>\n",
              "    </tr>\n",
              "    <tr>\n",
              "      <th>2</th>\n",
              "      <td>3</td>\n",
              "      <td>15619304</td>\n",
              "      <td>Onio</td>\n",
              "      <td>502</td>\n",
              "      <td>France</td>\n",
              "      <td>Female</td>\n",
              "      <td>42</td>\n",
              "      <td>8</td>\n",
              "      <td>159660.80</td>\n",
              "      <td>3</td>\n",
              "      <td>1</td>\n",
              "      <td>0</td>\n",
              "      <td>113931.57</td>\n",
              "      <td>1</td>\n",
              "    </tr>\n",
              "    <tr>\n",
              "      <th>3</th>\n",
              "      <td>4</td>\n",
              "      <td>15701354</td>\n",
              "      <td>Boni</td>\n",
              "      <td>699</td>\n",
              "      <td>France</td>\n",
              "      <td>Female</td>\n",
              "      <td>39</td>\n",
              "      <td>1</td>\n",
              "      <td>0.00</td>\n",
              "      <td>2</td>\n",
              "      <td>0</td>\n",
              "      <td>0</td>\n",
              "      <td>93826.63</td>\n",
              "      <td>0</td>\n",
              "    </tr>\n",
              "    <tr>\n",
              "      <th>4</th>\n",
              "      <td>5</td>\n",
              "      <td>15737888</td>\n",
              "      <td>Mitchell</td>\n",
              "      <td>850</td>\n",
              "      <td>Spain</td>\n",
              "      <td>Female</td>\n",
              "      <td>43</td>\n",
              "      <td>2</td>\n",
              "      <td>125510.82</td>\n",
              "      <td>1</td>\n",
              "      <td>1</td>\n",
              "      <td>1</td>\n",
              "      <td>79084.10</td>\n",
              "      <td>0</td>\n",
              "    </tr>\n",
              "  </tbody>\n",
              "</table>\n",
              "</div>"
            ],
            "text/plain": [
              "   RowNumber  CustomerId   Surname  CreditScore Geography  Gender  Age  \\\n",
              "0          1    15634602  Hargrave          619    France  Female   42   \n",
              "1          2    15647311      Hill          608     Spain  Female   41   \n",
              "2          3    15619304      Onio          502    France  Female   42   \n",
              "3          4    15701354      Boni          699    France  Female   39   \n",
              "4          5    15737888  Mitchell          850     Spain  Female   43   \n",
              "\n",
              "   Tenure    Balance  NumOfProducts  HasCrCard  IsActiveMember  \\\n",
              "0       2       0.00              1          1               1   \n",
              "1       1   83807.86              1          0               1   \n",
              "2       8  159660.80              3          1               0   \n",
              "3       1       0.00              2          0               0   \n",
              "4       2  125510.82              1          1               1   \n",
              "\n",
              "   EstimatedSalary  Exited  \n",
              "0        101348.88       1  \n",
              "1        112542.58       0  \n",
              "2        113931.57       1  \n",
              "3         93826.63       0  \n",
              "4         79084.10       0  "
            ]
          },
          "execution_count": 19,
          "metadata": {},
          "output_type": "execute_result"
        }
      ],
      "source": [
        "df_churn = pd.read_csv('churn.csv')\n",
        "df_churn.head()"
      ]
    },
    {
      "cell_type": "code",
      "execution_count": null,
      "metadata": {
        "id": "4EIX7cUAv6VX",
        "outputId": "2f01b65c-8c0b-4dfc-9a65-863f6b10f2ed"
      },
      "outputs": [
        {
          "data": {
            "text/html": [
              "<div>\n",
              "<style scoped>\n",
              "    .dataframe tbody tr th:only-of-type {\n",
              "        vertical-align: middle;\n",
              "    }\n",
              "\n",
              "    .dataframe tbody tr th {\n",
              "        vertical-align: top;\n",
              "    }\n",
              "\n",
              "    .dataframe thead th {\n",
              "        text-align: right;\n",
              "    }\n",
              "</style>\n",
              "<table border=\"1\" class=\"dataframe\">\n",
              "  <thead>\n",
              "    <tr style=\"text-align: right;\">\n",
              "      <th></th>\n",
              "      <th>CreditScore</th>\n",
              "      <th>Geography</th>\n",
              "      <th>Gender</th>\n",
              "      <th>Age</th>\n",
              "      <th>Tenure</th>\n",
              "      <th>Balance</th>\n",
              "      <th>NumOfProducts</th>\n",
              "      <th>HasCrCard</th>\n",
              "      <th>IsActiveMember</th>\n",
              "      <th>EstimatedSalary</th>\n",
              "      <th>Exited</th>\n",
              "    </tr>\n",
              "  </thead>\n",
              "  <tbody>\n",
              "    <tr>\n",
              "      <th>0</th>\n",
              "      <td>619</td>\n",
              "      <td>0</td>\n",
              "      <td>0</td>\n",
              "      <td>42</td>\n",
              "      <td>2</td>\n",
              "      <td>0.00</td>\n",
              "      <td>1</td>\n",
              "      <td>1</td>\n",
              "      <td>1</td>\n",
              "      <td>101348.88</td>\n",
              "      <td>1</td>\n",
              "    </tr>\n",
              "    <tr>\n",
              "      <th>1</th>\n",
              "      <td>608</td>\n",
              "      <td>1</td>\n",
              "      <td>0</td>\n",
              "      <td>41</td>\n",
              "      <td>1</td>\n",
              "      <td>83807.86</td>\n",
              "      <td>1</td>\n",
              "      <td>0</td>\n",
              "      <td>1</td>\n",
              "      <td>112542.58</td>\n",
              "      <td>0</td>\n",
              "    </tr>\n",
              "    <tr>\n",
              "      <th>2</th>\n",
              "      <td>502</td>\n",
              "      <td>0</td>\n",
              "      <td>0</td>\n",
              "      <td>42</td>\n",
              "      <td>8</td>\n",
              "      <td>159660.80</td>\n",
              "      <td>3</td>\n",
              "      <td>1</td>\n",
              "      <td>0</td>\n",
              "      <td>113931.57</td>\n",
              "      <td>1</td>\n",
              "    </tr>\n",
              "    <tr>\n",
              "      <th>3</th>\n",
              "      <td>699</td>\n",
              "      <td>0</td>\n",
              "      <td>0</td>\n",
              "      <td>39</td>\n",
              "      <td>1</td>\n",
              "      <td>0.00</td>\n",
              "      <td>2</td>\n",
              "      <td>0</td>\n",
              "      <td>0</td>\n",
              "      <td>93826.63</td>\n",
              "      <td>0</td>\n",
              "    </tr>\n",
              "    <tr>\n",
              "      <th>4</th>\n",
              "      <td>850</td>\n",
              "      <td>1</td>\n",
              "      <td>0</td>\n",
              "      <td>43</td>\n",
              "      <td>2</td>\n",
              "      <td>125510.82</td>\n",
              "      <td>1</td>\n",
              "      <td>1</td>\n",
              "      <td>1</td>\n",
              "      <td>79084.10</td>\n",
              "      <td>0</td>\n",
              "    </tr>\n",
              "  </tbody>\n",
              "</table>\n",
              "</div>"
            ],
            "text/plain": [
              "   CreditScore  Geography  Gender  Age  Tenure    Balance  NumOfProducts  \\\n",
              "0          619          0       0   42       2       0.00              1   \n",
              "1          608          1       0   41       1   83807.86              1   \n",
              "2          502          0       0   42       8  159660.80              3   \n",
              "3          699          0       0   39       1       0.00              2   \n",
              "4          850          1       0   43       2  125510.82              1   \n",
              "\n",
              "   HasCrCard  IsActiveMember  EstimatedSalary  Exited  \n",
              "0          1               1        101348.88       1  \n",
              "1          0               1        112542.58       0  \n",
              "2          1               0        113931.57       1  \n",
              "3          0               0         93826.63       0  \n",
              "4          1               1         79084.10       0  "
            ]
          },
          "execution_count": 20,
          "metadata": {},
          "output_type": "execute_result"
        }
      ],
      "source": [
        "df_churn = df_churn.drop(['RowNumber', 'CustomerId', 'Surname'], axis=1)\n",
        "df_churn.Gender.replace(['Male', 'Female'], [1, 0], inplace=True)\n",
        "df_churn.Geography.replace(['France', 'Spain', 'Germany'], [0, 1, 2], inplace=True)\n",
        "df_churn.head()"
      ]
    },
    {
      "cell_type": "code",
      "execution_count": null,
      "metadata": {
        "id": "GIO6ZUlFv6VX"
      },
      "outputs": [],
      "source": [
        "x_train_c, x_test_c, y_train_c, y_test_c = train_test_split(df_churn.iloc[:, :-1], df_churn.iloc[:, -1])"
      ]
    },
    {
      "cell_type": "code",
      "execution_count": null,
      "metadata": {
        "scrolled": true,
        "id": "li5iB0dIv6VX"
      },
      "outputs": [],
      "source": [
        "f = RF(trees_amount=50, data_samples_part=0.75, max_depth=7)\n",
        "f.fit(x_train_c, y_train_c)"
      ]
    },
    {
      "cell_type": "code",
      "execution_count": null,
      "metadata": {
        "id": "LrYal1uTv6VX",
        "outputId": "e9ff9854-bf7d-45c2-9e2d-94a4c69a2108"
      },
      "outputs": [
        {
          "name": "stdout",
          "output_type": "stream",
          "text": [
            "0.8652\n"
          ]
        }
      ],
      "source": [
        "pred_c = f.predict(x_test_c)\n",
        "print(accuracy_score(pred_c, y_test_c))"
      ]
    },
    {
      "cell_type": "code",
      "execution_count": null,
      "metadata": {
        "scrolled": false,
        "id": "bsqq_7qfv6VY",
        "outputId": "65aa6af8-e455-48b7-bb6a-2e2732b06fb1"
      },
      "outputs": [
        {
          "name": "stdout",
          "output_type": "stream",
          "text": [
            "Age 8.4900\n",
            "NumOfProducts 5.3100\n",
            "IsActiveMember 2.7300\n",
            "Balance 0.3100\n",
            "Geography 0.2700\n",
            "CreditScore -0.5200\n",
            "EstimatedSalary -0.6200\n",
            "Tenure -0.7000\n",
            "HasCrCard -0.8000\n",
            "Gender -0.8100\n"
          ]
        }
      ],
      "source": [
        "a = f.get_feature_importance(df_churn.iloc[:, :-1], df_churn.iloc[:, -1], accuracy_score(pred_c, y_test_c))\n",
        "\n",
        "for z in a:\n",
        "\tprint(z, \"{:2.4f}\".format(a[z]))"
      ]
    },
    {
      "cell_type": "markdown",
      "metadata": {
        "id": "OjVvwIX3v6VY"
      },
      "source": [
        "Данные выше показывают на какой процент изменится процент успешных распознаваний если парамерт будет случайным. Чем выше число тем параметр важнее. Параметры с оценкой близкой к нулю или отрицательной оценкой не важны и лишь вносят шум в модель."
      ]
    },
    {
      "cell_type": "code",
      "execution_count": null,
      "metadata": {
        "id": "lSK9kTQVv6VY",
        "outputId": "9495245f-1c38-4086-cd59-de36316a6ffb"
      },
      "outputs": [
        {
          "name": "stdout",
          "output_type": "stream",
          "text": [
            "3\n",
            "5\n",
            "10\n",
            "15\n",
            "20\n",
            "50\n",
            "100\n"
          ]
        }
      ],
      "source": [
        "trees_amounts = [3, 5, 10, 15, 20, 50, 100]\n",
        "data_samples_part = [0.01, 0.1, 0.2, 0.3, 0.5, 0.75, 0.9]\n",
        "max_depth = [2, 3, 5, 7, 10, 15, 20]\n",
        "\n",
        "all_results = []\n",
        "\n",
        "def test_params(t_amount, d_sample, m_depth):\n",
        "    r = RF(trees_amount=t_amount, data_samples_part=d_sample, max_depth=m_depth)\n",
        "    r.fit(x_train_c, y_train_c)\n",
        "    return accuracy_score(r.predict(x_test_c), y_test_c)\n",
        "\n",
        "for t_amount in trees_amounts:\n",
        "    print(t_amount)\n",
        "    for d_sample in data_samples_part:\n",
        "        for m_depth in max_depth:\n",
        "            # TA - trees amount\n",
        "            # DSP - the number of samples to draw from x to train each base estimator \n",
        "            # MD - max depth of trees\n",
        "            all_results.append({'Accuracy': test_params(t_amount, d_sample, m_depth), \n",
        "                                'Parameters': f'TA: {t_amount} DSP: {d_sample} MD: {m_depth}'})\n",
        "\n",
        "final_df = pd.DataFrame(all_results)"
      ]
    },
    {
      "cell_type": "code",
      "execution_count": null,
      "metadata": {
        "scrolled": true,
        "id": "R6b2U-kmv6VZ",
        "outputId": "cf509031-1558-4ba5-d9b9-3eec68c5dd89"
      },
      "outputs": [
        {
          "data": {
            "text/html": [
              "<div>\n",
              "<style scoped>\n",
              "    .dataframe tbody tr th:only-of-type {\n",
              "        vertical-align: middle;\n",
              "    }\n",
              "\n",
              "    .dataframe tbody tr th {\n",
              "        vertical-align: top;\n",
              "    }\n",
              "\n",
              "    .dataframe thead th {\n",
              "        text-align: right;\n",
              "    }\n",
              "</style>\n",
              "<table border=\"1\" class=\"dataframe\">\n",
              "  <thead>\n",
              "    <tr style=\"text-align: right;\">\n",
              "      <th></th>\n",
              "      <th>Accuracy</th>\n",
              "      <th>Parameters</th>\n",
              "    </tr>\n",
              "  </thead>\n",
              "  <tbody>\n",
              "    <tr>\n",
              "      <th>283</th>\n",
              "      <td>0.8660</td>\n",
              "      <td>TA: 50 DSP: 0.75 MD: 7</td>\n",
              "    </tr>\n",
              "    <tr>\n",
              "      <th>143</th>\n",
              "      <td>0.8644</td>\n",
              "      <td>TA: 10 DSP: 0.9 MD: 7</td>\n",
              "    </tr>\n",
              "    <tr>\n",
              "      <th>332</th>\n",
              "      <td>0.8640</td>\n",
              "      <td>TA: 100 DSP: 0.75 MD: 7</td>\n",
              "    </tr>\n",
              "    <tr>\n",
              "      <th>339</th>\n",
              "      <td>0.8636</td>\n",
              "      <td>TA: 100 DSP: 0.9 MD: 7</td>\n",
              "    </tr>\n",
              "    <tr>\n",
              "      <th>290</th>\n",
              "      <td>0.8636</td>\n",
              "      <td>TA: 50 DSP: 0.9 MD: 7</td>\n",
              "    </tr>\n",
              "    <tr>\n",
              "      <th>...</th>\n",
              "      <td>...</td>\n",
              "      <td>...</td>\n",
              "    </tr>\n",
              "    <tr>\n",
              "      <th>3</th>\n",
              "      <td>0.7684</td>\n",
              "      <td>TA: 3 DSP: 0.01 MD: 7</td>\n",
              "    </tr>\n",
              "    <tr>\n",
              "      <th>50</th>\n",
              "      <td>0.7680</td>\n",
              "      <td>TA: 5 DSP: 0.01 MD: 3</td>\n",
              "    </tr>\n",
              "    <tr>\n",
              "      <th>1</th>\n",
              "      <td>0.7664</td>\n",
              "      <td>TA: 3 DSP: 0.01 MD: 3</td>\n",
              "    </tr>\n",
              "    <tr>\n",
              "      <th>54</th>\n",
              "      <td>0.7652</td>\n",
              "      <td>TA: 5 DSP: 0.01 MD: 15</td>\n",
              "    </tr>\n",
              "    <tr>\n",
              "      <th>4</th>\n",
              "      <td>0.7408</td>\n",
              "      <td>TA: 3 DSP: 0.01 MD: 10</td>\n",
              "    </tr>\n",
              "  </tbody>\n",
              "</table>\n",
              "<p>343 rows × 2 columns</p>\n",
              "</div>"
            ],
            "text/plain": [
              "     Accuracy               Parameters\n",
              "283    0.8660   TA: 50 DSP: 0.75 MD: 7\n",
              "143    0.8644    TA: 10 DSP: 0.9 MD: 7\n",
              "332    0.8640  TA: 100 DSP: 0.75 MD: 7\n",
              "339    0.8636   TA: 100 DSP: 0.9 MD: 7\n",
              "290    0.8636    TA: 50 DSP: 0.9 MD: 7\n",
              "..        ...                      ...\n",
              "3      0.7684    TA: 3 DSP: 0.01 MD: 7\n",
              "50     0.7680    TA: 5 DSP: 0.01 MD: 3\n",
              "1      0.7664    TA: 3 DSP: 0.01 MD: 3\n",
              "54     0.7652   TA: 5 DSP: 0.01 MD: 15\n",
              "4      0.7408   TA: 3 DSP: 0.01 MD: 10\n",
              "\n",
              "[343 rows x 2 columns]"
            ]
          },
          "execution_count": 74,
          "metadata": {},
          "output_type": "execute_result"
        }
      ],
      "source": [
        "final_df.sort_values(ascending=False, by='Accuracy')"
      ]
    }
  ],
  "metadata": {
    "colab": {
      "name": "Lab_4.ipynb",
      "provenance": []
    },
    "kernelspec": {
      "display_name": "Python 3 (ipykernel)",
      "language": "python",
      "name": "python3"
    },
    "language_info": {
      "codemirror_mode": {
        "name": "ipython",
        "version": 3
      },
      "file_extension": ".py",
      "mimetype": "text/x-python",
      "name": "python",
      "nbconvert_exporter": "python",
      "pygments_lexer": "ipython3",
      "version": "3.9.7"
    }
  },
  "nbformat": 4,
  "nbformat_minor": 0
}