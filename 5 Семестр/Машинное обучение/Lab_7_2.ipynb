{
  "cells": [
    {
      "cell_type": "markdown",
      "metadata": {
        "id": "ezjWeWD7WsxU"
      },
      "source": [
        " # FashionMNIST\n",
        "\n",
        " ## Задание 7.2"
      ]
    },
    {
      "cell_type": "markdown",
      "metadata": {
        "id": "AygNFOvoWsxY"
      },
      "source": [
        "<img src=\"https://emiliendupont.github.io/imgs/mnist-chicken/mnist-and-fashion-examples.png\">"
      ]
    },
    {
      "cell_type": "markdown",
      "metadata": {
        "id": "YNF5C2b_Wsxh"
      },
      "source": [
        "На практике построим нейронную сеть для классификации картиной. В качестве входных данных используются картинки одежды (в градациях серого, то есть цветовых каналов не 3, а 1). По входной картинке нужно предсказать тип одежды."
      ]
    },
    {
      "cell_type": "code",
      "execution_count": null,
      "metadata": {
        "id": "2IYPMzDudZeN",
        "outputId": "34c01171-c7e1-4a8b-98de-22adedd95137"
      },
      "outputs": [
        {
          "name": "stdout",
          "output_type": "stream",
          "text": [
            "1.10.1+cu102\n"
          ]
        },
        {
          "data": {
            "text/plain": [
              "'3.8.12 (default, Dec 20 2021, 18:45:59) \\n[GCC 11.1.0]'"
            ]
          },
          "execution_count": 32,
          "metadata": {},
          "output_type": "execute_result"
        }
      ],
      "source": [
        "import numpy as np\n",
        "import matplotlib.pyplot as plt\n",
        "\n",
        "import torch\n",
        "import torchvision\n",
        "from torchvision import transforms\n",
        "from torch.autograd import Variable\n",
        "import torch.nn as nn\n",
        "import torch.optim as optim\n",
        "import torch.nn.functional as F\n",
        "from torch.utils.data.dataloader import default_collate\n",
        "\n",
        "from tqdm import notebook\n",
        "from tqdm.auto import tqdm\n",
        "\n",
        "from sklearn.metrics import classification_report\n",
        "from sklearn.metrics import accuracy_score\n",
        "from torchmetrics import Accuracy\n",
        "acc = Accuracy()\n",
        "\n",
        "import torch.multiprocessing\n",
        "torch.multiprocessing.set_sharing_strategy('file_system')\n",
        "\n",
        "print(torch.__version__)\n",
        "import sys\n",
        "sys.version"
      ]
    },
    {
      "cell_type": "markdown",
      "metadata": {
        "id": "ZEr2x6meSqNj"
      },
      "source": [
        "Скачаем обучающую и контрольную выборки."
      ]
    },
    {
      "cell_type": "code",
      "execution_count": null,
      "metadata": {
        "id": "FCedv50ReIUZ",
        "tags": []
      },
      "outputs": [],
      "source": [
        "transform = transforms.Compose(\n",
        "    [transforms.ToTensor()])\n",
        "\n",
        "trainset = torchvision.datasets.FashionMNIST(root='./data', train=True,\n",
        "                                        download=True, transform=transform)\n",
        "\n",
        "trainloader = torch.utils.data.DataLoader(trainset, batch_size=4,\n",
        "                                          shuffle=True, num_workers=2)\n",
        "\n",
        "testset = torchvision.datasets.FashionMNIST(root='./data', train=False,\n",
        "                                       download=True, transform=transform)\n",
        "\n",
        "testloader = torch.utils.data.DataLoader(testset, batch_size=4,\n",
        "                                         shuffle=False, num_workers=2)\n",
        "classes = tuple(str(i) for i in range(10))"
      ]
    },
    {
      "cell_type": "markdown",
      "metadata": {
        "id": "CZTfJ0dBWszP"
      },
      "source": [
        "Каждая картинка имеет класс от 0 до 9, расшифровка меток класса:  \n",
        "\n",
        "|class_id|class_name|\n",
        "|----|----|\n",
        "|0| T-shirt/top|\n",
        "|1| Trouser|\n",
        "|2| Pullover|\n",
        "|3| Dress|\n",
        "|4| Coat|\n",
        "|5| Sandal|\n",
        "|6| Shirt|\n",
        "|7| Sneaker|\n",
        "|8| Bag|\n",
        "|9| Ankle boot| "
      ]
    },
    {
      "cell_type": "markdown",
      "metadata": {
        "id": "RkDjjoj2Ws04"
      },
      "source": [
        "<h2 style=\"text-align: center;\"><b>Задание</b></h2>"
      ]
    },
    {
      "cell_type": "markdown",
      "metadata": {
        "id": "b_DjMGZPWszt"
      },
      "source": [
        "Посмотрите на датасет.\n",
        "* Сколько картинок в train? В test?\n",
        "* Равномерно ли распределено количество объектов разных классов в train датасете (это можно понять, поработав с полем `train_data` у переменной `trainset`)? в test?\n",
        "* Выведите несколько картинок с помощью `pyplot`\n",
        "\n",
        "Используя материалы семинаров по многослойным  и свёрточным сетям, напишите:\n",
        "1. Многослойную нейронную сеть MLP (Multi-Layer Perceptron) классифицирующую этот датасет\n",
        "2. Свёрточную сеть, классифицирующую этот датасет\n",
        "3. Сравните их качество (по графикам лосса и по Accuracy Score)\n",
        "\n",
        "Если качество, которое получается у  нейросети, выше 95%, то Вы решили задачу с точностью, которую можно использовать в жизни."
      ]
    },
    {
      "cell_type": "code",
      "execution_count": null,
      "metadata": {
        "id": "Ev5LShUSWs06",
        "outputId": "5169e641-3437-4d87-c64e-d44bd0aace5d"
      },
      "outputs": [
        {
          "name": "stdout",
          "output_type": "stream",
          "text": [
            "Dataset FashionMNIST\n",
            "    Number of datapoints: 60000\n",
            "    Root location: ./data\n",
            "    Split: Train\n",
            "    StandardTransform\n",
            "Transform: Compose(\n",
            "               ToTensor()\n",
            "           )\n",
            "torch.Size([60000, 28, 28])\n"
          ]
        }
      ],
      "source": [
        "print(trainloader.dataset)\n",
        "print(trainloader.dataset.data.shape)"
      ]
    },
    {
      "cell_type": "code",
      "execution_count": null,
      "metadata": {
        "id": "O-OzVSd_0HBZ"
      },
      "outputs": [],
      "source": [
        "targets_distribution = dict()\n",
        "for target in trainloader.dataset.targets:\n",
        "    target = target.item()\n",
        "    if target not in targets_distribution:\n",
        "        targets_distribution[target] = 1\n",
        "    else:\n",
        "        targets_distribution[target] += 1"
      ]
    },
    {
      "cell_type": "code",
      "execution_count": null,
      "metadata": {
        "id": "iGwuoaDv0HBa",
        "outputId": "4b89504e-1e67-4e57-d353-3b788089f77e"
      },
      "outputs": [
        {
          "data": {
            "text/plain": [
              "{9: 6000,\n",
              " 0: 6000,\n",
              " 3: 6000,\n",
              " 2: 6000,\n",
              " 7: 6000,\n",
              " 5: 6000,\n",
              " 1: 6000,\n",
              " 6: 6000,\n",
              " 4: 6000,\n",
              " 8: 6000}"
            ]
          },
          "execution_count": 36,
          "metadata": {},
          "output_type": "execute_result"
        }
      ],
      "source": [
        "# Типы одежды распределены в одинаковых пропорциях\n",
        "targets_distribution"
      ]
    },
    {
      "cell_type": "code",
      "execution_count": null,
      "metadata": {
        "id": "JXc8718y0HBa",
        "outputId": "5cddb5d6-ae27-4add-f514-280989cd251c"
      },
      "outputs": [
        {
          "data": {
            "text/plain": [
              "<matplotlib.image.AxesImage at 0x7f6c0f953c10>"
            ]
          },
          "execution_count": 37,
          "metadata": {},
          "output_type": "execute_result"
        },
        {
          "data": {
            "image/png": "[encoded data removed]",
            "text/plain": [
              "<Figure size 432x288 with 1 Axes>"
            ]
          },
          "metadata": {
            "needs_background": "light"
          },
          "output_type": "display_data"
        }
      ],
      "source": [
        "plt.imshow(trainloader.dataset.data[42])"
      ]
    },
    {
      "cell_type": "code",
      "execution_count": null,
      "metadata": {
        "scrolled": true,
        "id": "2YFmipbf0HBb",
        "outputId": "bbc3edd4-e8c5-415f-e622-f00d04e0eac9"
      },
      "outputs": [
        {
          "data": {
            "text/plain": [
              "<matplotlib.image.AxesImage at 0x7f6c9ad4a310>"
            ]
          },
          "execution_count": 38,
          "metadata": {},
          "output_type": "execute_result"
        },
        {
          "data": {
            "image/png": "[encoded data removed]",
            "text/plain": [
              "<Figure size 432x288 with 1 Axes>"
            ]
          },
          "metadata": {
            "needs_background": "light"
          },
          "output_type": "display_data"
        }
      ],
      "source": [
        "plt.imshow(trainloader.dataset.data[99])"
      ]
    },
    {
      "cell_type": "code",
      "execution_count": null,
      "metadata": {
        "id": "HuHwzIUt0HBb"
      },
      "outputs": [],
      "source": [
        "class MLP(nn.Module):\n",
        "    def __init__(self, h1=512, h2=512, in_=784, out=10): # 28*28=784\n",
        "        super(MLP, self).__init__()\n",
        "        self.in_ = in_\n",
        "        self.dropout = nn.Dropout(0.2)\n",
        "        self._0 = nn.Linear(in_, h1)\n",
        "        self._1 = nn.ReLU()\n",
        "        self._2 = nn.Linear(h1, h2)\n",
        "        self._3 = nn.ReLU()\n",
        "        self._4 = nn.Linear(h2, out)\n",
        "\n",
        "    def forward(self, x):\n",
        "        x = x.view(-1, self.in_)\n",
        "        x = self._0(x)\n",
        "        x = self._1(x)\n",
        "        x = self.dropout(x)\n",
        "        x = self._2(x)\n",
        "        x = self._3(x)\n",
        "        x = self.dropout(x)\n",
        "        x = self._4(x)\n",
        "        return x"
      ]
    },
    {
      "cell_type": "code",
      "execution_count": null,
      "metadata": {
        "id": "k9ikbOOV0HBc"
      },
      "outputs": [],
      "source": [
        "class CNN(nn.Module):\n",
        "    def __init__(self):\n",
        "        super(CNN, self).__init__()\n",
        "        self.conv1 = nn.Conv2d(in_channels=1, out_channels=6, kernel_size=5)\n",
        "        self.pool = nn.MaxPool2d(kernel_size=2, stride=2)\n",
        "        self.conv2 = nn.Conv2d(in_channels=6, out_channels=16, kernel_size=5)\n",
        "        self.fc1 = nn.Linear(4 * 4 * 16, 120)\n",
        "        self.fc2 = nn.Linear(120, 84)\n",
        "        self.fc3 = nn.Linear(84, 10)\n",
        "\n",
        "    def forward(self, x):\n",
        "        x = self.pool(F.relu(self.conv1(x)))\n",
        "        x = self.pool(F.relu(self.conv2(x)))\n",
        "        x = x.view(-1, 4 * 4 * 16)\n",
        "        x = F.relu(self.fc1(x))\n",
        "        x = F.relu(self.fc2(x))\n",
        "        x = self.fc3(x)\n",
        "        return x"
      ]
    },
    {
      "cell_type": "code",
      "execution_count": null,
      "metadata": {
        "scrolled": true,
        "id": "sVrRTh5T0HBc"
      },
      "outputs": [],
      "source": [
        "def fit(model, optimizer, criterion, epochs=40):\n",
        "    loss_values = []\n",
        "    accu_values = []\n",
        "    for epoch in tqdm(range(epochs)):\n",
        "        running_loss = 0\n",
        "        correctness = 0\n",
        "        for images, labels in trainloader:\n",
        "            images = images.to('cuda', non_blocking=True)\n",
        "            labels = labels.to('cuda', non_blocking=True)\n",
        "            optimizer.zero_grad()\n",
        "            loss = criterion(model(images), labels)\n",
        "            loss.backward()\n",
        "            optimizer.step()\n",
        "\n",
        "            running_loss += loss.item() * images.size(0)\n",
        "            \n",
        "            output = model(images)\n",
        "            correctness += acc(output.detach().cpu(), labels.detach().cpu()).item()\n",
        "        loss_values.append(running_loss/len(trainloader.dataset))\n",
        "        accu_values.append(correctness/len(trainloader.dataset))\n",
        "\n",
        "#         print(f'Loss:{running_loss/len(trainloader.dataset)}\\t\\tAcc:{correctness/len(trainloader.dataset)}')\n",
        "    return loss_values, accu_values"
      ]
    },
    {
      "cell_type": "code",
      "execution_count": null,
      "metadata": {
        "id": "K0IHqmyt0HBd"
      },
      "outputs": [],
      "source": [
        "def print_results(model):\n",
        "    model.eval()\n",
        "    class_correct = list(0. for i in range(10))\n",
        "    class_total = list(0. for i in range(10))\n",
        "\n",
        "    with torch.no_grad():\n",
        "        for data in testloader:\n",
        "            images, labels = data\n",
        "            images = images.to('cuda', non_blocking=True)\n",
        "            labels = labels.to('cuda', non_blocking=True)\n",
        "            y_pred = model(images)\n",
        "            _, predicted = torch.max(y_pred, 1)\n",
        "            c = (predicted == labels).squeeze()\n",
        "            for i in range(4):\n",
        "                label = labels[i]\n",
        "                class_correct[label] += c[i].item()\n",
        "                class_total[label] += 1\n",
        "\n",
        "    res = []\n",
        "    for i in range(10):\n",
        "        res.append(100 * class_correct[i] / class_total[i])\n",
        "        print('Accuracy of %5s : %2d %%' % (\n",
        "            classes[i], res[-1]))\n",
        "    print(f\"Mean accuracy {sum(res) / len(res)}%\")"
      ]
    },
    {
      "cell_type": "code",
      "execution_count": null,
      "metadata": {
        "id": "CR2adnb_0HBd",
        "outputId": "d65157d9-5f68-4f25-f72f-76cf6ca21f91"
      },
      "outputs": [
        {
          "data": {
            "text/plain": [
              "True"
            ]
          },
          "execution_count": 115,
          "metadata": {},
          "output_type": "execute_result"
        }
      ],
      "source": [
        "mlp_net = MLP()\n",
        "\n",
        "mlp_net.cuda()\n",
        "mlp_net.train()\n",
        "next(mlp_net.parameters()).is_cuda"
      ]
    },
    {
      "cell_type": "code",
      "execution_count": null,
      "metadata": {
        "id": "jWtZbJLm0HBd",
        "outputId": "06cb10b9-3a6b-4876-9e4c-c973929f7ebf"
      },
      "outputs": [
        {
          "data": {
            "text/plain": [
              "True"
            ]
          },
          "execution_count": 116,
          "metadata": {},
          "output_type": "execute_result"
        }
      ],
      "source": [
        "cnn_net = CNN()\n",
        "\n",
        "cnn_net.cuda()\n",
        "cnn_net.train()\n",
        "next(cnn_net.parameters()).is_cuda"
      ]
    },
    {
      "cell_type": "code",
      "execution_count": null,
      "metadata": {
        "id": "QriTI12q0HBe"
      },
      "outputs": [],
      "source": [
        "mlp_loss_fn = torch.nn.CrossEntropyLoss()\n",
        "mlp_optimizer = torch.optim.NAdam(mlp_net.parameters(), lr=0.0001)"
      ]
    },
    {
      "cell_type": "code",
      "execution_count": null,
      "metadata": {
        "scrolled": true,
        "id": "UUwfp0X50HBe",
        "outputId": "05021098-2ae7-4eee-e352-60a07ce00bbc",
        "colab": {
          "referenced_widgets": [
            "0d2a903dfd974a9b9dd2924cd2643fa3"
          ]
        }
      },
      "outputs": [
        {
          "data": {
            "application/vnd.jupyter.widget-view+json": {
              "model_id": "0d2a903dfd974a9b9dd2924cd2643fa3",
              "version_major": 2,
              "version_minor": 0
            },
            "text/plain": [
              "  0%|          | 0/40 [00:00<?, ?it/s]"
            ]
          },
          "metadata": {},
          "output_type": "display_data"
        },
        {
          "name": "stdout",
          "output_type": "stream",
          "text": [
            "CPU times: user 2h 41min 43s, sys: 57.7 s, total: 2h 42min 41s\n",
            "Wall time: 27min 6s\n"
          ]
        }
      ],
      "source": [
        "%%time\n",
        "mlp_loss_values, mlp_accu_values = fit(mlp_net, mlp_optimizer, mlp_loss_fn)"
      ]
    },
    {
      "cell_type": "code",
      "execution_count": null,
      "metadata": {
        "id": "6xubt2Fj0HBe"
      },
      "outputs": [],
      "source": [
        "cnn_loss_fn = torch.nn.CrossEntropyLoss()\n",
        "cnn_optimizer = torch.optim.NAdam(cnn_net.parameters(), lr=0.0001)"
      ]
    },
    {
      "cell_type": "code",
      "execution_count": null,
      "metadata": {
        "scrolled": true,
        "id": "uBohzQ1E0HBe",
        "outputId": "c5aa8648-2568-4ebe-d076-40b07b3a5426",
        "colab": {
          "referenced_widgets": [
            "266fcd108c6c4984a4d87d0e47fd5900"
          ]
        }
      },
      "outputs": [
        {
          "data": {
            "application/vnd.jupyter.widget-view+json": {
              "model_id": "266fcd108c6c4984a4d87d0e47fd5900",
              "version_major": 2,
              "version_minor": 0
            },
            "text/plain": [
              "  0%|          | 0/40 [00:00<?, ?it/s]"
            ]
          },
          "metadata": {},
          "output_type": "display_data"
        },
        {
          "name": "stdout",
          "output_type": "stream",
          "text": [
            "CPU times: user 3h 47min 8s, sys: 1min 19s, total: 3h 48min 28s\n",
            "Wall time: 38min 11s\n"
          ]
        }
      ],
      "source": [
        "%%time\n",
        "cnn_loss_values, cnn_accu_values = fit(cnn_net, cnn_optimizer, cnn_loss_fn)"
      ]
    },
    {
      "cell_type": "markdown",
      "metadata": {
        "id": "7UDqeHGo0HBf"
      },
      "source": [
        "# MLP results"
      ]
    },
    {
      "cell_type": "code",
      "execution_count": null,
      "metadata": {
        "scrolled": true,
        "id": "zcmjlA_p0HBf",
        "outputId": "1331ad71-ae57-4811-b870-eddd083200b7"
      },
      "outputs": [
        {
          "name": "stdout",
          "output_type": "stream",
          "text": [
            "Accuracy of     0 : 81 %\n",
            "Accuracy of     1 : 98 %\n",
            "Accuracy of     2 : 78 %\n",
            "Accuracy of     3 : 90 %\n",
            "Accuracy of     4 : 85 %\n",
            "Accuracy of     5 : 96 %\n",
            "Accuracy of     6 : 74 %\n",
            "Accuracy of     7 : 98 %\n",
            "Accuracy of     8 : 97 %\n",
            "Accuracy of     9 : 94 %\n",
            "Mean accuracy 89.61999999999999%\n"
          ]
        }
      ],
      "source": [
        "print_results(mlp_net)"
      ]
    },
    {
      "cell_type": "code",
      "execution_count": null,
      "metadata": {
        "id": "vu0LkJop0HBf",
        "outputId": "bf7512a2-4fd7-4b67-a3a8-fbe3abaf3b47"
      },
      "outputs": [
        {
          "data": {
            "image/png": "[encoded data removed]",
            "text/plain": [
              "<Figure size 432x288 with 1 Axes>"
            ]
          },
          "metadata": {
            "needs_background": "light"
          },
          "output_type": "display_data"
        }
      ],
      "source": [
        "plt.plot(mlp_loss_values, '-o')\n",
        "plt.show()"
      ]
    },
    {
      "cell_type": "code",
      "execution_count": null,
      "metadata": {
        "id": "u9XqenHs0HBf",
        "outputId": "fe9cf7e7-7f86-4524-e99b-dc439b763ea2"
      },
      "outputs": [
        {
          "data": {
            "image/png": "[encoded data removed]",
            "text/plain": [
              "<Figure size 432x288 with 1 Axes>"
            ]
          },
          "metadata": {
            "needs_background": "light"
          },
          "output_type": "display_data"
        }
      ],
      "source": [
        "plt.plot(mlp_accu_values, '-o')\n",
        "plt.show()"
      ]
    },
    {
      "cell_type": "markdown",
      "metadata": {
        "id": "AvqOEF7P0HBg"
      },
      "source": [
        "# CNN results"
      ]
    },
    {
      "cell_type": "code",
      "execution_count": null,
      "metadata": {
        "id": "FzhtBYS50HBg",
        "outputId": "29031e36-8052-49f8-f5ba-608165086f82"
      },
      "outputs": [
        {
          "name": "stdout",
          "output_type": "stream",
          "text": [
            "Accuracy of     0 : 83 %\n",
            "Accuracy of     1 : 97 %\n",
            "Accuracy of     2 : 79 %\n",
            "Accuracy of     3 : 87 %\n",
            "Accuracy of     4 : 84 %\n",
            "Accuracy of     5 : 97 %\n",
            "Accuracy of     6 : 76 %\n",
            "Accuracy of     7 : 96 %\n",
            "Accuracy of     8 : 96 %\n",
            "Accuracy of     9 : 95 %\n",
            "Mean accuracy 89.47%\n"
          ]
        }
      ],
      "source": [
        "print_results(cnn_net)"
      ]
    },
    {
      "cell_type": "code",
      "execution_count": null,
      "metadata": {
        "id": "S1LT9z5U0HBg",
        "outputId": "42876619-bebc-415c-b6a8-1573040069d5"
      },
      "outputs": [
        {
          "data": {
            "image/png": "[encoded data removed]",
            "text/plain": [
              "<Figure size 432x288 with 1 Axes>"
            ]
          },
          "metadata": {
            "needs_background": "light"
          },
          "output_type": "display_data"
        }
      ],
      "source": [
        "plt.plot(cnn_loss_values, '-o')\n",
        "plt.show()"
      ]
    },
    {
      "cell_type": "code",
      "execution_count": null,
      "metadata": {
        "scrolled": true,
        "id": "TpxDIbeK0HBg",
        "outputId": "f4a381e2-876b-4214-f7f5-4d643fb732bd"
      },
      "outputs": [
        {
          "data": {
            "image/png": "[encoded data removed]",
            "text/plain": [
              "<Figure size 432x288 with 1 Axes>"
            ]
          },
          "metadata": {
            "needs_background": "light"
          },
          "output_type": "display_data"
        }
      ],
      "source": [
        "plt.plot(cnn_accu_values, '-o')\n",
        "plt.show()"
      ]
    }
  ],
  "metadata": {
    "colab": {
      "collapsed_sections": [],
      "name": "Lab_7_2.ipynb",
      "provenance": []
    },
    "kernelspec": {
      "display_name": "Python 3.8",
      "language": "python",
      "name": "py3.8"
    },
    "language_info": {
      "codemirror_mode": {
        "name": "ipython",
        "version": 3
      },
      "file_extension": ".py",
      "mimetype": "text/x-python",
      "name": "python",
      "nbconvert_exporter": "python",
      "pygments_lexer": "ipython3",
      "version": "3.8.12"
    },
    "widgets": {
      "application/vnd.jupyter.widget-state+json": {}
    }
  },
  "nbformat": 4,
  "nbformat_minor": 0
}