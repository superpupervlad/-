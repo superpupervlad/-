{
  "cells": [
    {
      "cell_type": "markdown",
      "metadata": {
        "id": "LkTpaRRWZNc3"
      },
      "source": [
        "# Линейная регрессия\n"
      ]
    },
    {
      "cell_type": "markdown",
      "metadata": {
        "id": "Ro-ttLpiZNdC"
      },
      "source": [
        "Линейные методы предполагают, что между признаками объекта и целевой переменной существует линейная зависимость, то есть:\n",
        "$$ \\hat{y} = w_1 x_1 + w_2 x_2 + ... + w_k x_k + b,$$\n",
        "где $\\hat{y}$ - целевая переменная (что мы хотим предсказать), $x_i$ - i-ый признак объекта $x$, $w_i$ - вес $i$-го признака, $b$ - bias (смещение, свободный член).\n",
        "\n",
        "В задаче линейной регрессии $\\hat{y}$ - это действительное число.\n",
        "\n",
        "Часто для упрощения записи вводят дополнительный фиктивный признак $x_0$, который всегда равен 1, тогда bias - вес этого признака. В этом случае формула может быть записана как скалярное произведение:\n",
        "$$ \\hat{y} = <w, x> $$\n",
        "\n",
        "В матричной форме формулу можно переписать следующим образом:\n",
        "$$ \\hat{y} = Xw,$$\n",
        "$\\hat{y}$ - вектор значений целевой переменной размера $n$, $X$ - матрица значений признаков объектов размера $n \\times k$, w - вектор весов размера $k$. То есть в наших данных имеется $n$ объектов, каждый их которых описан $k$ признаками.\n",
        "\n",
        "Таким образом, в матричной форме модель задаётся следующим образом:\n",
        "$$ y = Xw + \\epsilon$$ \n",
        "\n",
        "Важно отметить, что параметрами этой модели являются веса $w$. Когда говорят об обучении какого-либо алгоритма машинного обучения, как правило, имеют в виду настройку весов, т.е. параметров модели.  "
      ]
    },
    {
      "cell_type": "markdown",
      "metadata": {
        "id": "ixnX1G4yDVcG"
      },
      "source": [
        "На практике $\\hat{y} $ может отличается от реальных значений, которые принимает целевая переменная $y$. Разницу между реальным значением и предсказанным, обозначим как $\\epsilon$ - вектор значений случайной переменной, соответствующая случайной, непрогнозируемой ошибке модели. Ограничения, которые накладываются на эту модель:\n",
        "* математическое ожидание случайных ошибок $\\epsilon$ равно нулю,\n",
        "* дисперсия случайных ошибок одинакова и конечна,\n",
        "* случайные ошибки не скоррелированы."
      ]
    },
    {
      "cell_type": "markdown",
      "metadata": {
        "id": "HJyN9MkMDTod"
      },
      "source": [
        "Один из способов вычислить значения параметров модели, давно знаком - это наименьших квадратов, который минимизирует среднеквадратичную ошибку между реальным значением зависимой переменной и прогнозом, выданным моделью. Решение по методу наименьших квадратов дает:\n",
        "$$ w = (X^TX)^{-1}X^TY $$"
      ]
    },
    {
      "cell_type": "markdown",
      "metadata": {
        "id": "Y5HVNycSZNc5"
      },
      "source": [
        "Загрузим необходимые библиотеки"
      ]
    },
    {
      "cell_type": "code",
      "execution_count": null,
      "metadata": {
        "id": "Lrhz2sFvZNc7"
      },
      "outputs": [],
      "source": [
        "import numpy as np\n",
        "import pandas as pd\n",
        "from matplotlib import pyplot as plt\n",
        "plt.style.use('ggplot')\n",
        "%matplotlib inline"
      ]
    },
    {
      "cell_type": "markdown",
      "metadata": {
        "id": "dFQqRj1lZNdg"
      },
      "source": [
        "## Оценка результатов\n",
        "\n",
        "Чтобы оценить качество работы алгоритма нам необходимо применяют разные метрики. Наиболее частые метрики средневадратичная и средняя абсолютная ошибки. Вычислим эти метрики на обучающей и на тестовой выборках. \n",
        "\n",
        " * *mean_absolute_error* - средняя абсолютная ошибка $|y_i - \\hat{y}_i|$\n",
        " * *mean_squared_error* - средняя квадратичная ошибка $(y_i - \\hat{y}_i)^2$"
      ]
    },
    {
      "cell_type": "markdown",
      "metadata": {
        "id": "2sEDF-oXRsVw"
      },
      "source": [
        "## Задание 3.1"
      ]
    },
    {
      "cell_type": "markdown",
      "metadata": {
        "id": "aStEfJYSZNdE"
      },
      "source": [
        "Пример 1. Сгенерируем искусственные данные. Сначала поработаем с простейшим одномерным случаем, когда у нас значение $y$ будет зависеть только от одного значения $x$.\n",
        "\n",
        "\n"
      ]
    },
    {
      "cell_type": "code",
      "execution_count": null,
      "metadata": {
        "id": "d3tzSTkrZNdF"
      },
      "outputs": [],
      "source": [
        "def generate_data(n_points=20):\n",
        "  \"\"\"\n",
        "    Принимает на вход n_points точек \n",
        "    Возвращает данные для обучения и теста\n",
        "  \"\"\"\n",
        "  X = np.linspace(-5, 5, n_points)\n",
        "  y = 10 * X - 7\n",
        "\n",
        "  X_train = X[0::2].reshape(-1, 1)\n",
        "  y_train = y[0::2] + np.random.randn(int(n_points/2)) * 10\n",
        "\n",
        "  X_test = X[1::2].reshape(-1, 1)\n",
        "  y_test = y[1::2] + np.random.randn(int(n_points/2)) * 10\n",
        "\n",
        "  print(f'Generated {len(X_train)} train samples and {len(X_test)} test samples')\n",
        "  return X, X_train, y_train, X_test, y_test"
      ]
    },
    {
      "cell_type": "code",
      "execution_count": null,
      "metadata": {
        "colab": {
          "base_uri": "https://localhost:8080/"
        },
        "id": "bnYHO2TjZNdJ",
        "outputId": "7cca327f-ecd4-4a70-85fd-a2657404e50c",
        "scrolled": true
      },
      "outputs": [
        {
          "name": "stdout",
          "output_type": "stream",
          "text": [
            "Generated 50 train samples and 50 test samples\n"
          ]
        }
      ],
      "source": [
        "X, X_train, y_train, X_test, y_test = generate_data(100)"
      ]
    },
    {
      "cell_type": "code",
      "execution_count": null,
      "metadata": {
        "id": "q0l76cbaKzYg"
      },
      "outputs": [],
      "source": [
        "### Реализуйте настройку w и b с помощью рассмотренного выше метода наименьших квадратов.\n",
        "### Найдите значения метрик MSE и MAE. Сравните с результатами из sklearn"
      ]
    },
    {
      "cell_type": "code",
      "execution_count": null,
      "metadata": {
        "colab": {
          "base_uri": "https://localhost:8080/"
        },
        "id": "qN-XNA5pqxrv",
        "outputId": "75b358b0-9c02-4882-ce03-89d946b990ae"
      },
      "outputs": [
        {
          "name": "stdout",
          "output_type": "stream",
          "text": [
            "[[ 9.6863672 ]\n",
            " [-5.94962577]]\n"
          ]
        }
      ],
      "source": [
        "X_train_refactored = np.vstack([X_train.T, np.ones(len(X_train))]).T\n",
        "y_train_refactored = y_train[:, np.newaxis]\n",
        "\n",
        "w_b = np.linalg.inv(X_train_refactored.T@X_train_refactored)@X_train_refactored.T@y_train_refactored\n",
        "print(w_b)"
      ]
    },
    {
      "cell_type": "code",
      "execution_count": null,
      "metadata": {
        "id": "pp_dMf4bV78h"
      },
      "outputs": [],
      "source": [
        "from sklearn.metrics import mean_squared_error, mean_absolute_error\n",
        "\n",
        "my_mse = mean_squared_error(X_test*w_b[0]+w_b[1], y_test)\n",
        "my_mae = mean_absolute_error(X_test*w_b[0]+w_b[1], y_test)"
      ]
    },
    {
      "cell_type": "code",
      "execution_count": null,
      "metadata": {
        "id": "ewHLeddAX0DU"
      },
      "outputs": [],
      "source": [
        "from sklearn import linear_model\n",
        "from sklearn.metrics import mean_squared_error\n",
        "\n",
        "regr = linear_model.LinearRegression()\n",
        "regr.fit(X_train, y_train)\n",
        "sk_predict = regr.predict(X_test)\n",
        "\n",
        "sk_mse = mean_squared_error(y_test, sk_predict)\n",
        "sk_mae = mean_absolute_error(y_test, sk_predict)"
      ]
    },
    {
      "cell_type": "code",
      "execution_count": null,
      "metadata": {
        "colab": {
          "base_uri": "https://localhost:8080/"
        },
        "id": "ydtqf7hmalcx",
        "outputId": "fa1709ba-11fc-4a8b-bb0b-b0ef958a1318",
        "scrolled": true
      },
      "outputs": [
        {
          "name": "stdout",
          "output_type": "stream",
          "text": [
            "My MAE: 8.592305663744733\n",
            "My MSE: 103.64316558049198\n",
            "Sklearn's MAE: 8.59230566374473\n",
            "Sklearn's MSE: 103.64316558049191\n"
          ]
        }
      ],
      "source": [
        "print(f'My MAE: {my_mae}\\nMy MSE: {my_mse}')\n",
        "print(f'Sklearn\\'s MAE: {sk_mae}\\nSklearn\\'s MSE: {sk_mse}')"
      ]
    },
    {
      "cell_type": "markdown",
      "metadata": {
        "id": "luGJoQXHRzu7"
      },
      "source": [
        "## Задание 3.2"
      ]
    },
    {
      "cell_type": "markdown",
      "metadata": {
        "id": "KKKQZDzWMv-j"
      },
      "source": [
        "Пример 2. Не всегда в задаче регрессии в качестве решения выступает прямая, как в предыдущем случае. Рассмотрим ещё один пример, в котором у объектов всё ещё один признак. Но теперь мы будм брать случайную точку на синусоиде и добавлять к ней шум — таким образом получим целевую переменную, признаком в этом случае будет координата $x$."
      ]
    },
    {
      "cell_type": "code",
      "execution_count": null,
      "metadata": {
        "id": "aULennJThZxH"
      },
      "outputs": [],
      "source": [
        "def generate_wave_set(n_support=1000, n_train=25, std=0.3):\n",
        "    data = {}\n",
        "    # выберем некоторое количество точек из промежутка от 0 до 2*pi\n",
        "    data['support'] = np.linspace(0, 2*np.pi, num=n_support)\n",
        "    # для каждой посчитаем значение sin(x) + 1\n",
        "    # это будет ground truth\n",
        "    data['values'] = np.sin(data['support']) + 1\n",
        "    # из support посемплируем некоторое количество точек с возвратом, это будут признаки\n",
        "    data['x_train'] = np.sort(np.random.choice(data['support'], size=n_train, replace=True))\n",
        "    # опять посчитаем sin(x) + 1 и добавим шум, получим целевую переменную\n",
        "    data['y_train'] = np.sin(data['x_train']) + 1 + np.random.normal(0, std, size=data['x_train'].shape[0])\n",
        "    return data\n",
        "\n",
        "data = generate_wave_set(1000, 250)"
      ]
    },
    {
      "cell_type": "code",
      "execution_count": null,
      "metadata": {
        "id": "3CBnODv1QYn_"
      },
      "outputs": [],
      "source": [
        "### попробуйте реализовать настройку w и b с помощью рассмотренного выше метода наименьших квадратов.\n",
        "### Найдите значения метрик MSE и MAE"
      ]
    },
    {
      "cell_type": "code",
      "execution_count": null,
      "metadata": {
        "colab": {
          "base_uri": "https://localhost:8080/"
        },
        "id": "hvY5VciVboXh",
        "outputId": "d21a831b-5c2a-4fdb-dfe9-b65fa91c3371"
      },
      "outputs": [
        {
          "name": "stdout",
          "output_type": "stream",
          "text": [
            "[[-0.32261564]\n",
            " [ 2.05186368]]\n"
          ]
        }
      ],
      "source": [
        "data['x_train_ref'] = np.vstack([data['x_train'].T, np.ones(len(data['x_train']))]).T\n",
        "data['y_train_ref'] = data['y_train'][:, np.newaxis]\n",
        "\n",
        "w_b_sin = np.linalg.inv(data['x_train_ref'].T@data['x_train_ref'])@data['x_train_ref'].T@data['y_train_ref']\n",
        "print(w_b_sin)"
      ]
    },
    {
      "cell_type": "code",
      "execution_count": null,
      "metadata": {
        "colab": {
          "base_uri": "https://localhost:8080/"
        },
        "id": "s8QpSGpDiRne",
        "outputId": "6b4e28e3-d5ba-4690-a3ed-8db7017e7c57",
        "scrolled": false
      },
      "outputs": [
        {
          "name": "stdout",
          "output_type": "stream",
          "text": [
            "MAE: 0.3891373532099218\n",
            "MSE: 0.19948356798182273\n"
          ]
        }
      ],
      "source": [
        "my_mse_sin = mean_squared_error(data['support']*w_b_sin[0]+w_b_sin[1], data['values'])\n",
        "my_mae_sin = mean_absolute_error(data['support']*w_b_sin[0]+w_b_sin[1], data['values'])\n",
        "\n",
        "print(f'MAE: {my_mae_sin}\\nMSE: {my_mse_sin}')"
      ]
    },
    {
      "cell_type": "markdown",
      "metadata": {
        "id": "o9iBgsGVQyOD"
      },
      "source": [
        "Конечно, такое решение нас вряд ли может устроить. Нужно применить полинимиальную регрессию. Идея здесь такая. Каждый признак в исходную формулу может входить не только в первой степени, но и во второй, в третьей и так далее. То есть для случая, когда у нас только один признак:\n",
        "$$ \\hat{y} = w_1 x_1 + w_2 x_1^2 + ... + w_k x_1^k + b,$$ "
      ]
    },
    {
      "cell_type": "markdown",
      "metadata": {
        "id": "95m0fULWR4m5"
      },
      "source": [
        "## Задание 3.3"
      ]
    },
    {
      "cell_type": "code",
      "execution_count": null,
      "metadata": {
        "id": "eyzS3rlzSuDU"
      },
      "outputs": [],
      "source": [
        "from sklearn.preprocessing import PolynomialFeatures\n",
        "\n",
        "### Реализуйте полиномиальную регрессию. Сделайте визуализацию для полиномов разных степеней. \n",
        "### Полином какой степени подходит больше других? Почему?"
      ]
    },
    {
      "cell_type": "code",
      "execution_count": null,
      "metadata": {
        "id": "g9yYoM0VkzKy"
      },
      "outputs": [],
      "source": [
        "def calculate_polynomial(degree=3):\n",
        "    poly = PolynomialFeatures(degree = degree)\n",
        "    x_poly = poly.fit_transform(data['x_train_ref'])\n",
        "\n",
        "    data['support_ref'] = np.vstack([data['support'].T, np.ones(len(data['support']))]).T\n",
        "\n",
        "    poly_regr = linear_model.LinearRegression()\n",
        "    poly_regr.fit(x_poly, data['y_train_ref'])\n",
        "    poly_pred = poly_regr.predict(poly.fit_transform(data['support_ref']))\n",
        "\n",
        "    poly_mse = mean_squared_error(poly_pred, data['values'])\n",
        "    poly_mae = mean_absolute_error(poly_pred, data['values'])\n",
        "\n",
        "#     print(f'Degree: {degree}\\nMAE: {poly_mae}\\nMSE: {poly_mse}\\n')\n",
        "    \n",
        "    return(poly_mae, poly_mse, poly_pred)"
      ]
    },
    {
      "cell_type": "code",
      "execution_count": null,
      "metadata": {
        "id": "-DzUGRzz0EBi",
        "outputId": "7d022ac8-e1b8-4e09-8588-de0db8ffc1b3"
      },
      "outputs": [
        {
          "data": {
            "image/png": "[encoded data removed]",
            "text/plain": [
              "<Figure size 432x288 with 1 Axes>"
            ]
          },
          "metadata": {
            "needs_background": "light"
          },
          "output_type": "display_data"
        }
      ],
      "source": [
        "poly_res = []\n",
        "for i in range(1, 11):\n",
        "    poly_res.append(calculate_polynomial(i))\n",
        "\n",
        "poly_res = np.array(poly_res)\n",
        "\n",
        "plt.plot(range(1,11), poly_res[:,0], color='green', label='MSE')\n",
        "plt.plot(range(1,11), poly_res[:,1], color='orange', label='MAE')\n",
        "\n",
        "min_mae = min((val, idx) for (idx, val) in enumerate(poly_res[:,0]))\n",
        "min_mse = min((val, idx) for (idx, val) in enumerate(poly_res[:,1]))\n",
        "plt.plot(min_mae[1] + 1, min_mae[0], 'ro', color='red')\n",
        "plt.plot(min_mse[1] + 1, min_mse[0], 'ro', color='red', label='Min value')\n",
        "\n",
        "plt.legend()\n",
        "plt.xlabel('Degree')\n",
        "plt.title('Изменение MSE и MAE в зависимости от изменения степени полинома')\n",
        "plt.show()"
      ]
    },
    {
      "cell_type": "markdown",
      "metadata": {
        "id": "Nx74QM_S0EBj"
      },
      "source": [
        "> Полином какой степени подходит больше других? Почему?\n",
        "\n",
        "Как видно из графика выше лучшие показатели MSE и MAE у полинома со степенью 5.\n",
        "У полиномов с более высокой степенью возникает проблема переобученности.\n",
        "Полиномы со степенью 3 и 4 описывают синусоидальную структуру, но их показатели страдают из-за шума в данных. На более длинном отрезке лучший результат будет у полинома со степенью 3."
      ]
    },
    {
      "cell_type": "code",
      "execution_count": null,
      "metadata": {
        "scrolled": true,
        "id": "i0RSmvqJ0EBj",
        "outputId": "58ffc130-a46e-4c96-9048-d0871db30520"
      },
      "outputs": [
        {
          "data": {
            "image/png": "[encoded data removed]",
            "text/plain": [
              "<Figure size 432x288 with 1 Axes>"
            ]
          },
          "metadata": {
            "needs_background": "light"
          },
          "output_type": "display_data"
        }
      ],
      "source": [
        "plt.plot(data['support'], poly_res[1,2], color='red', label='Degree=2')\n",
        "plt.plot(data['support'], poly_res[2,2], color='blue', label='Degree=3')\n",
        "plt.plot(data['support'], poly_res[4,2], color='yellow', label='Degree=5')\n",
        "plt.plot(data['support'], poly_res[9,2], color='magenta', label='Degree=10')\n",
        "plt.plot(data['support'], data['values'], color='black', label='Original')\n",
        "plt.legend()\n",
        "plt.show()"
      ]
    },
    {
      "cell_type": "markdown",
      "metadata": {
        "id": "feMIFS82ZNdn"
      },
      "source": [
        "# Реальный датасет"
      ]
    },
    {
      "cell_type": "markdown",
      "metadata": {
        "id": "_NVLc80wZNdn"
      },
      "source": [
        "Возьмём реальный набор данных Boston из sklearn.datasets. Этот датасет описывает средние цены на недвижимость в районах Бостона в тысячах долларов.\n",
        "\n",
        "Примеры признаков объектов недвижимости: количество преступлений на душу населения, процент старых домов в районе, количество учеников на одного учителя и т.д. Обратите внимание на то, что данные уже оцифрованы там, где изначально признаки были качественными."
      ]
    },
    {
      "cell_type": "markdown",
      "metadata": {
        "id": "yMC-plFGZNdo"
      },
      "source": [
        "Загрузим датасет, выведем информацию"
      ]
    },
    {
      "cell_type": "code",
      "execution_count": null,
      "metadata": {
        "id": "ZN6sApHcZNdo"
      },
      "outputs": [],
      "source": [
        "from sklearn.datasets import load_boston\n",
        "from sklearn.model_selection import train_test_split\n",
        "from sklearn.preprocessing import StandardScaler\n",
        "import warnings\n",
        "warnings.filterwarnings(\"ignore\")"
      ]
    },
    {
      "cell_type": "code",
      "execution_count": null,
      "metadata": {
        "id": "YBgnP7HcZNdq"
      },
      "outputs": [],
      "source": [
        "x, y = load_boston(return_X_y=True)"
      ]
    },
    {
      "cell_type": "markdown",
      "metadata": {
        "id": "kjL3jxlqgHWs"
      },
      "source": [
        "## Задание 3.4"
      ]
    },
    {
      "cell_type": "code",
      "execution_count": null,
      "metadata": {
        "id": "PbTQGLKagJN5"
      },
      "outputs": [],
      "source": [
        "### оставьте в наборе данных только 7 наиболее значимых признаков\n",
        "### настройте параметры линейной регрессии и сравните метрики качества (MSE и MAE) для полного датасета и усечённого"
      ]
    },
    {
      "cell_type": "code",
      "execution_count": null,
      "metadata": {
        "id": "7tb0K06N0EBm",
        "outputId": "95f7ef7c-c441-4f6c-8194-22225a046707"
      },
      "outputs": [
        {
          "name": "stdout",
          "output_type": "stream",
          "text": [
            "MAE: 3.1182814927087352\n",
            "MSE: 22.69177387668045\n"
          ]
        }
      ],
      "source": [
        "x_train, x_test, y_train, y_test = train_test_split(x, y, train_size=0.5)\n",
        "\n",
        "boston_regr = linear_model.LinearRegression()\n",
        "boston_regr.fit(x_train, y_train)\n",
        "\n",
        "boston_pred = boston_regr.predict(x_test)\n",
        "\n",
        "boston_mse = mean_squared_error(boston_pred, y_test)\n",
        "boston_mae = mean_absolute_error(boston_pred, y_test)\n",
        "\n",
        "print(f'MAE: {boston_mae}\\nMSE: {boston_mse}')"
      ]
    },
    {
      "cell_type": "code",
      "execution_count": null,
      "metadata": {
        "id": "v_m3ZPnb0EBm",
        "outputId": "65ce867a-65b8-4e33-dfbd-1fdd31dfa7fe"
      },
      "outputs": [
        {
          "name": "stdout",
          "output_type": "stream",
          "text": [
            "До нормировки:\n",
            "[ 7.10400230e-03  5.39887849e-02  3.67772428e-02  3.98366105e+00\n",
            " -1.34904714e+01  3.43979703e+00  1.76824811e-02 -1.42980084e+00\n",
            "  2.74016518e-01 -8.49833350e-03 -7.81404087e-01  9.55017498e-03\n",
            " -7.74518600e-01]\n",
            "После нормировки:\n",
            "[ 0.04000942  1.36042076  0.2562318   1.04989674 -1.52055612  2.4865939\n",
            "  0.48470849 -3.10351961  2.31139156 -1.39475702 -1.74317725  0.8634343\n",
            " -5.41922541]\n"
          ]
        }
      ],
      "source": [
        "print(f'До нормировки:\\n{boston_regr.coef_}')\n",
        "\n",
        "scaler = StandardScaler()\n",
        "x_train_normed = scaler.fit_transform(x_train)\n",
        "x_test_normed = scaler.transform(x_test)\n",
        "\n",
        "boston_regr_normed = linear_model.LinearRegression()\n",
        "boston_regr_normed.fit(x_train_normed, y_train)\n",
        "boston_regr.predict(x_test)\n",
        "print(f'После нормировки:\\n{boston_regr_normed.coef_}')"
      ]
    },
    {
      "cell_type": "code",
      "execution_count": null,
      "metadata": {
        "id": "jTjHm9dw0EBm",
        "outputId": "28674416-898d-4de3-987f-643fff1f9d51"
      },
      "outputs": [
        {
          "name": "stdout",
          "output_type": "stream",
          "text": [
            "(253, 7) (253, 7)\n",
            "Trimed MAE: 3.7166253729006917\n",
            "Trimed MSE: 24.441280691298157\n"
          ]
        }
      ],
      "source": [
        "indexes_with_lowest_coef = [i[0] for i in sorted(list(enumerate([abs(coef) for coef in boston_regr_normed.coef_])), key=lambda x:x[1])[:6]]\n",
        "\n",
        "x_train_trimed = np.delete(x_train, indexes_with_lowest_coef, axis=1)\n",
        "x_test_trimed = np.delete(x_test, indexes_with_lowest_coef, axis=1)\n",
        "print(x_train_trimed.shape, x_test_trimed.shape)\n",
        "\n",
        "boston_regr_trimed = linear_model.LinearRegression()\n",
        "boston_regr_trimed.fit(x_train_trimed, y_train)\n",
        "\n",
        "boston_pred_trimed = boston_regr_trimed.predict(x_test_trimed)\n",
        "\n",
        "boston_mse_trimed = mean_squared_error(boston_pred_trimed, y_test)\n",
        "boston_mae_trimed = mean_absolute_error(boston_pred_trimed, y_test)\n",
        "\n",
        "print(f'Trimed MAE: {boston_mae_trimed}\\nTrimed MSE: {boston_mse_trimed}')"
      ]
    }
  ],
  "metadata": {
    "colab": {
      "collapsed_sections": [],
      "name": "Lab_3.1.ipynb",
      "provenance": []
    },
    "kernelspec": {
      "display_name": "Python 3 (ipykernel)",
      "language": "python",
      "name": "python3"
    },
    "language_info": {
      "codemirror_mode": {
        "name": "ipython",
        "version": 3
      },
      "file_extension": ".py",
      "mimetype": "text/x-python",
      "name": "python",
      "nbconvert_exporter": "python",
      "pygments_lexer": "ipython3",
      "version": "3.9.7"
    }
  },
  "nbformat": 4,
  "nbformat_minor": 0
}