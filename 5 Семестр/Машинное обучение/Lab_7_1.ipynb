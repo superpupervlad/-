{
  "cells": [
    {
      "cell_type": "markdown",
      "metadata": {
        "id": "vcnGdgw_YJ8u"
      },
      "source": [
        "# PyTorch. Основы: синтаксис, torch.cuda и torch.autograd\n",
        "\n",
        "## Задание 7.1"
      ]
    },
    {
      "cell_type": "code",
      "execution_count": null,
      "metadata": {
        "id": "RtyozNmmYJ89"
      },
      "outputs": [],
      "source": [
        "import numpy as np\n",
        "import torch\n",
        "from torch.autograd import Variable\n",
        "import matplotlib.pyplot as plt"
      ]
    },
    {
      "cell_type": "markdown",
      "metadata": {
        "id": "ny4-Qi2wYJ-6"
      },
      "source": [
        "### Задача 1"
      ]
    },
    {
      "cell_type": "markdown",
      "metadata": {
        "id": "IWxlFq0bYJ-_"
      },
      "source": [
        "1). Создайте два вещественных тензора: `a` размером (3, 4) и `b` размером (12,)   \n",
        "2). Создайте тензор `c`, являющийся тензором `b`, но размера (2, 2, 3)  \n",
        "3). Выведите первый столбец матрицы `a` с помощью индексации"
      ]
    },
    {
      "cell_type": "code",
      "execution_count": null,
      "metadata": {
        "id": "3oxZuk3yYJ_A",
        "outputId": "988764e3-6d87-4ecd-aa76-8dca0beb80eb"
      },
      "outputs": [
        {
          "data": {
            "text/plain": [
              "torch.Size([3, 4])"
            ]
          },
          "execution_count": 76,
          "metadata": {},
          "output_type": "execute_result"
        }
      ],
      "source": [
        "a = torch.FloatTensor(3,4)\n",
        "a.shape"
      ]
    },
    {
      "cell_type": "code",
      "execution_count": null,
      "metadata": {
        "id": "0gXcBi6T0Gkp",
        "outputId": "52a09ca8-0d5a-495c-c983-6d217b091d9b"
      },
      "outputs": [
        {
          "data": {
            "text/plain": [
              "torch.Size([12])"
            ]
          },
          "execution_count": 77,
          "metadata": {},
          "output_type": "execute_result"
        }
      ],
      "source": [
        "b = torch.FloatTensor(12,)\n",
        "b.shape"
      ]
    },
    {
      "cell_type": "code",
      "execution_count": null,
      "metadata": {
        "id": "OOoDsHFH0Gkq",
        "outputId": "f3604e00-44bc-4ff2-a1b9-d90ebef63651"
      },
      "outputs": [
        {
          "data": {
            "text/plain": [
              "torch.Size([2, 2, 3])"
            ]
          },
          "execution_count": 78,
          "metadata": {},
          "output_type": "execute_result"
        }
      ],
      "source": [
        "c = b.view(2,2,3)\n",
        "c.shape"
      ]
    },
    {
      "cell_type": "code",
      "execution_count": null,
      "metadata": {
        "id": "nl2Pzlgi0Gkr",
        "outputId": "4dbb35c2-a941-4f8b-de6d-8a74baf2af51"
      },
      "outputs": [
        {
          "data": {
            "text/plain": [
              "tensor([6.7333e+22, 6.1972e-04, 4.7881e+22])"
            ]
          },
          "execution_count": 80,
          "metadata": {},
          "output_type": "execute_result"
        }
      ],
      "source": [
        "a[:,0]"
      ]
    },
    {
      "cell_type": "markdown",
      "metadata": {
        "id": "D2IP_FrKYKAA"
      },
      "source": [
        "### Задача 2"
      ]
    },
    {
      "cell_type": "markdown",
      "metadata": {
        "id": "tBZFbSYQYKAA"
      },
      "source": [
        "1). Создайте два вещественных тензора: `a` размером (5, 2) и `b` размером (1,10)   \n",
        "2). Создайте тензор `c`, являющийся тензором `b`, но размера (5, 2)  \n",
        "3). Произведите все арифметические операции с тензорами `a` и `c`"
      ]
    },
    {
      "cell_type": "code",
      "execution_count": null,
      "metadata": {
        "id": "hzs2bH3GYKAB"
      },
      "outputs": [],
      "source": [
        "a = torch.FloatTensor(5,2)\n",
        "b = torch.FloatTensor(1,10)\n",
        "c = b.view(5,2)"
      ]
    },
    {
      "cell_type": "code",
      "execution_count": null,
      "metadata": {
        "id": "YrhQdWTv0Gkt",
        "outputId": "cc84da09-c45b-4b3e-c907-7f01a77f2655"
      },
      "outputs": [
        {
          "name": "stdout",
          "output_type": "stream",
          "text": [
            "tensor([[ 2.6083e+20,  7.6732e-41],\n",
            "        [-4.9810e+23,  6.1766e-41],\n",
            "        [ 1.5835e-43,  0.0000e+00],\n",
            "        [ 6.7262e-44,  3.0883e-41],\n",
            "        [-2.7319e+23,  3.0883e-41]])\n",
            "tensor([[ 2.6083e+20, -1.4966e-41],\n",
            "        [ 2.9849e+22,  0.0000e+00],\n",
            "        [ 1.5554e-43,  0.0000e+00],\n",
            "        [ 6.7262e-44, -3.0883e-41],\n",
            "        [-2.7319e+23,  3.0883e-41]])\n",
            "tensor([[-1.6321e-07,  0.0000e+00],\n",
            "        [        inf,  0.0000e+00],\n",
            "        [ 0.0000e+00,  0.0000e+00],\n",
            "        [ 0.0000e+00,  0.0000e+00],\n",
            "        [-1.1485e-21,  0.0000e+00]])\n",
            "tensor([[    -inf,   0.6736],\n",
            "        [  0.8869,   1.0000],\n",
            "        [112.0000,      nan],\n",
            "        [     inf,   0.0000],\n",
            "        [    -inf,      inf]])\n"
          ]
        }
      ],
      "source": [
        "print(a.add(c))\n",
        "print(a.sub(c))\n",
        "print(a.mul(c))\n",
        "print(a.div(c))"
      ]
    },
    {
      "cell_type": "markdown",
      "metadata": {
        "id": "rIaroFO6YKBT"
      },
      "source": [
        "### Задача 3"
      ]
    },
    {
      "cell_type": "markdown",
      "metadata": {
        "id": "GfLHVvKvYKBT"
      },
      "source": [
        "1). Создайте тензор *целых чисел* `images` размерности (100, 200, 200, 3) (можно интерпретировать это как 100 картинок размера 200х200 с тремя цветовыми каналами, то есть 100 цветных изображений 200х200). Заполните его нулями  \n",
        "\n",
        "2). Сделайте так, чтобы у $i$-ой по порядку картинки была нарисована белая полоса толщиной два пикселя в строках, которые соответствуют номеру картинки. Например, у 3-ей по порядку картинки белая полоска будет занимать 6 и 7 строки, у 99 - 198 и 199. Сделать белую строку можно, записав в ячейки тензора число 255 (по всем трём каналам). Выведите несколько примеров с помощью `pylot`  \n",
        "\n",
        "3). Посчитайте среднее тензора `images` по 1-ой оси (по сути - средняя картинка), умножьте полученный тензор на 70. Нарисуйте с помощью `pyplot`, должна получиться серая картинка (при взятии среднего нужно привести тензор к float с помощью `.float()`, при отрисовке обратно к int с помощью `.int()`)"
      ]
    },
    {
      "cell_type": "code",
      "execution_count": null,
      "metadata": {
        "id": "pZVGHEQQYKBU",
        "outputId": "bdeae2fc-5272-46f9-db6e-4ca280817b23"
      },
      "outputs": [
        {
          "data": {
            "text/plain": [
              "torch.Size([100, 200, 200, 3])"
            ]
          },
          "execution_count": 84,
          "metadata": {},
          "output_type": "execute_result"
        }
      ],
      "source": [
        "img_tensor = torch.IntTensor(100, 200, 200, 3)\n",
        "img_tensor.shape"
      ]
    },
    {
      "cell_type": "code",
      "execution_count": null,
      "metadata": {
        "id": "FvOSpC0m0Gku"
      },
      "outputs": [],
      "source": [
        "for i in range(len(img_tensor)):\n",
        "    img_tensor[i][i*2,:] = torch.IntTensor([255,255,255])\n",
        "    img_tensor[i][min(199, i*2+1),:] = torch.IntTensor([255,255,255])"
      ]
    },
    {
      "cell_type": "code",
      "execution_count": null,
      "metadata": {
        "scrolled": true,
        "id": "SzMb0ywd0Gkv",
        "outputId": "41bb401c-1219-4fe0-e8d3-f06eaa2bda32"
      },
      "outputs": [
        {
          "data": {
            "text/plain": [
              "<matplotlib.image.AxesImage at 0x7fced7dd2ee0>"
            ]
          },
          "execution_count": 86,
          "metadata": {},
          "output_type": "execute_result"
        },
        {
          "data": {
            "image/png": "[encoded data removed]",
            "text/plain": [
              "<Figure size 432x288 with 1 Axes>"
            ]
          },
          "metadata": {
            "needs_background": "light"
          },
          "output_type": "display_data"
        }
      ],
      "source": [
        "plt.imshow(img_tensor[0])"
      ]
    },
    {
      "cell_type": "code",
      "execution_count": null,
      "metadata": {
        "id": "FPwKCrzX0Gkv",
        "outputId": "3104757b-3e7d-4e8f-e612-0d0c829252f0"
      },
      "outputs": [
        {
          "data": {
            "text/plain": [
              "<matplotlib.image.AxesImage at 0x7fced7becca0>"
            ]
          },
          "execution_count": 87,
          "metadata": {},
          "output_type": "execute_result"
        },
        {
          "data": {
            "image/png": "[encoded data removed]",
            "text/plain": [
              "<Figure size 432x288 with 1 Axes>"
            ]
          },
          "metadata": {
            "needs_background": "light"
          },
          "output_type": "display_data"
        }
      ],
      "source": [
        "plt.imshow(img_tensor[10])"
      ]
    },
    {
      "cell_type": "code",
      "execution_count": null,
      "metadata": {
        "id": "lPf7EDCR0Gkv",
        "outputId": "004bf6b3-30de-41fc-dfbd-5d26faa3ffbb"
      },
      "outputs": [
        {
          "data": {
            "text/plain": [
              "<matplotlib.image.AxesImage at 0x7fced7df3a90>"
            ]
          },
          "execution_count": 88,
          "metadata": {},
          "output_type": "execute_result"
        },
        {
          "data": {
            "image/png": "[encoded data removed]",
            "text/plain": [
              "<Figure size 432x288 with 1 Axes>"
            ]
          },
          "metadata": {
            "needs_background": "light"
          },
          "output_type": "display_data"
        }
      ],
      "source": [
        "plt.imshow(img_tensor[99])"
      ]
    },
    {
      "cell_type": "code",
      "execution_count": null,
      "metadata": {
        "id": "QzZ2qMHI0Gkw",
        "outputId": "ce2fbb22-441c-4e75-810d-4798038e9604"
      },
      "outputs": [
        {
          "data": {
            "text/plain": [
              "<matplotlib.image.AxesImage at 0x7fced7d09220>"
            ]
          },
          "execution_count": 89,
          "metadata": {},
          "output_type": "execute_result"
        },
        {
          "data": {
            "image/png": "[encoded data removed]",
            "text/plain": [
              "<Figure size 432x288 with 1 Axes>"
            ]
          },
          "metadata": {
            "needs_background": "light"
          },
          "output_type": "display_data"
        }
      ],
      "source": [
        "grey_img = torch.mean(img_tensor.float(), dim=0).mul(70).int()\n",
        "plt.imshow(grey_img)"
      ]
    },
    {
      "cell_type": "markdown",
      "metadata": {
        "id": "oQnhq5ZdYKCu"
      },
      "source": [
        "### Задача 4"
      ]
    },
    {
      "cell_type": "markdown",
      "metadata": {
        "id": "UB95BhgTYKCu"
      },
      "source": [
        "- В Colab нажмите в меню сверху: `Runtime` -> `Change Runtime Type` -> `GPU`, где изначально стоит `None` (`Среда выполнение` - `Сменить среду выполнения`)\n",
        "- Объявите тензор `a` размера (2, 3, 4) и тензор `b` размера (1, 8, 3) на GPU, иницилизируйте их случайно равномерно (`.uniform_()`)\n",
        "- Затем измените форму тензора `b`, чтобы она совпадала с формой тензора `a`, получите тензор `c`  \n",
        "- Переместите `c` на CPU, переместите `a` на CPU  \n",
        "- Оберните их в `Variable()`\n",
        "- Объявите тензор `L = torch.mean((c - a) `**` 2)` и посчитайте градиент `L` по `c` ( то есть $\\frac{\\partial{L}}{\\partial{c}})$\n",
        "- Выведите градиент `L` по `c`"
      ]
    },
    {
      "cell_type": "code",
      "execution_count": null,
      "metadata": {
        "id": "WESOm5TCYKCv"
      },
      "outputs": [],
      "source": [
        "a = torch.FloatTensor(2,3,4).uniform_()\n",
        "b = torch.FloatTensor(1,8,3).uniform_()"
      ]
    },
    {
      "cell_type": "code",
      "execution_count": null,
      "metadata": {
        "id": "yuOZnI_E0Gkx"
      },
      "outputs": [],
      "source": [
        "c = b.view(2,3,4).cpu()"
      ]
    },
    {
      "cell_type": "code",
      "execution_count": null,
      "metadata": {
        "id": "TxVbTCrl0Gkx"
      },
      "outputs": [],
      "source": [
        "a = a.cpu()"
      ]
    },
    {
      "cell_type": "code",
      "execution_count": null,
      "metadata": {
        "id": "nb9ekQIp0Gkx",
        "outputId": "b3132284-1547-4797-8c53-c2212cebd1de"
      },
      "outputs": [
        {
          "name": "stdout",
          "output_type": "stream",
          "text": [
            "False\n",
            "False\n"
          ]
        }
      ],
      "source": [
        "print(c.is_cuda)\n",
        "print(a.is_cuda)"
      ]
    },
    {
      "cell_type": "code",
      "execution_count": null,
      "metadata": {
        "id": "R7khJrqy0Gky"
      },
      "outputs": [],
      "source": [
        "a = Variable(a, requires_grad=True)\n",
        "c = Variable(c, requires_grad=True)"
      ]
    },
    {
      "cell_type": "code",
      "execution_count": null,
      "metadata": {
        "id": "8Kdlg6DG0Gky"
      },
      "outputs": [],
      "source": [
        "L = torch.mean((c - a) ** 2)"
      ]
    },
    {
      "cell_type": "code",
      "execution_count": null,
      "metadata": {
        "id": "V--JJFaP0Gky"
      },
      "outputs": [],
      "source": [
        "L.backward()"
      ]
    },
    {
      "cell_type": "code",
      "execution_count": null,
      "metadata": {
        "id": "JzN3E21g0Gky",
        "outputId": "133daf61-6a3f-4bca-a882-6becb1a9c392"
      },
      "outputs": [
        {
          "data": {
            "text/plain": [
              "tensor([[[ 0.0285,  0.0046,  0.0505,  0.0433],\n",
              "         [-0.0211,  0.0066, -0.0370, -0.0585],\n",
              "         [ 0.0260, -0.0219,  0.0116,  0.0818]],\n",
              "\n",
              "        [[-0.0373,  0.0623, -0.0392,  0.0401],\n",
              "         [ 0.0310,  0.0419, -0.0171,  0.0018],\n",
              "         [ 0.0308, -0.0493,  0.0655, -0.0429]]])"
            ]
          },
          "execution_count": 73,
          "metadata": {},
          "output_type": "execute_result"
        }
      ],
      "source": [
        "c.grad"
      ]
    }
  ],
  "metadata": {
    "colab": {
      "name": "Lab_7_1.ipynb",
      "provenance": [],
      "collapsed_sections": []
    },
    "kernelspec": {
      "display_name": "Python 3 (ipykernel)",
      "language": "python",
      "name": "python3"
    },
    "language_info": {
      "codemirror_mode": {
        "name": "ipython",
        "version": 3
      },
      "file_extension": ".py",
      "mimetype": "text/x-python",
      "name": "python",
      "nbconvert_exporter": "python",
      "pygments_lexer": "ipython3",
      "version": "3.8.12"
    }
  },
  "nbformat": 4,
  "nbformat_minor": 0
}