{
  "nbformat": 4,
  "nbformat_minor": 0,
  "metadata": {
    "colab": {
      "name": "Lab_1",
      "provenance": [],
      "collapsed_sections": [],
      "toc_visible": true
    },
    "kernelspec": {
      "display_name": "Python 3",
      "language": "python",
      "name": "python3"
    },
    "language_info": {
      "codemirror_mode": {
        "name": "ipython",
        "version": 3
      },
      "file_extension": ".py",
      "mimetype": "text/x-python",
      "name": "python",
      "nbconvert_exporter": "python",
      "pygments_lexer": "ipython3",
      "version": "3.7.4"
    }
  },
  "cells": [
    {
      "cell_type": "markdown",
      "metadata": {
        "id": "BsNwjQDRfmLY"
      },
      "source": [
        "# Задание 1"
      ]
    },
    {
      "cell_type": "markdown",
      "metadata": {
        "id": "wu6r1-s7fmLe"
      },
      "source": [
        "---"
      ]
    },
    {
      "cell_type": "markdown",
      "metadata": {
        "id": "zxRIdPO9gYyX"
      },
      "source": [
        "Напишите программу, которая будет решать систему линейных уравнений вида:\n",
        "\n",
        "\\begin{matrix} a_{11}x+a_{12}y=b_{1}&(1) \\\\ a_{21}x+a_{22}y=b_{2} &(2) \\end{matrix}\n",
        "​\t\n",
        "На вход программа должна принимать 2 строки.\n",
        "\n",
        "Каждая строка содержит 3 действительных числа через пробел: коэффициенты a и b.\n",
        "\n",
        "На выходе программа должна выдавать значения x и y в одну строку через пробел.\n",
        " \n",
        "\n",
        "Примечание 1. Для разделения строки на отдельные элементы используйте функцию split()\n",
        "\n",
        "Примечание 2. В качестве разделителя между целой и дробной частью используйте точку, например 0.2"
      ]
    },
    {
      "cell_type": "code",
      "metadata": {
        "id": "6sxlcLbVlrjl",
        "colab": {
          "base_uri": "https://localhost:8080/"
        },
        "outputId": "3f03c0ec-6e04-4b9a-f67b-2df0687ade37"
      },
      "source": [
        "def linan():\n",
        "  a11, a12, b1 = list(map(float,input().split()))\n",
        "  a21, a22, b2 = list(map(float,input().split()))\n",
        "  \n",
        "  f = -1 * (a21 / a11)\n",
        "  \n",
        "  a11, a12, b1 = a11 * f, a12 * f, b1 * f\n",
        "\n",
        "  a_total = a12 + a22\n",
        "  b_total = b1 + b2\n",
        "\n",
        "  y = b_total / a_total\n",
        "  x = (b1 - a12*y) / a11\n",
        "\n",
        "  print(x, y)\n",
        "  # return(x, y)\n",
        "\n",
        "\n",
        "linan()"
      ],
      "execution_count": null,
      "outputs": [
        {
          "output_type": "stream",
          "name": "stdout",
          "text": [
            "1 5 7\n",
            "3 -2 4\n",
            "2.0 1.0\n"
          ]
        }
      ]
    },
    {
      "cell_type": "markdown",
      "metadata": {
        "id": "wLoVDMQnfmOv"
      },
      "source": [
        "# Задание 2"
      ]
    },
    {
      "cell_type": "markdown",
      "metadata": {
        "id": "6bmt_YF3fmOw"
      },
      "source": [
        "Напишите функцию `decorate_matrix`, которая получает на вход одно целое число больше единицы. Функция должна возвращать матрицу n на n, у которой на границах стоят единицы, а на всех остальных позициях(если остались позиции не на границах) стоят нули.\n",
        "\n",
        "Нужно сделать без использования  циклов.\n",
        "\n",
        "```\n",
        "# ожидаемый резальтат для аргумента 5\n",
        "array([[1., 1., 1., 1., 1.],\n",
        "[1., 0., 0., 0., 1.],\n",
        "[1., 0., 0., 0., 1.],\n",
        "[1., 0., 0., 0., 1.],\n",
        "[1., 1., 1., 1., 1.]])\n",
        "```\n",
        "\n"
      ]
    },
    {
      "cell_type": "code",
      "metadata": {
        "colab": {
          "base_uri": "https://localhost:8080/"
        },
        "id": "WQRVtL9B0opD",
        "outputId": "8bf0f534-cfd3-4f2d-b1ae-26ac9b2f1b31"
      },
      "source": [
        "import numpy as np\n",
        "\n",
        "\n",
        "def decorate_matrix(n):\n",
        "  m = np.zeros((n,n))\n",
        "\n",
        "  m[0] = 1\n",
        "  m[-1] = 1\n",
        "  m[:,0] = 1\n",
        "  m[:,-1] = 1\n",
        "\n",
        "  return m\n",
        "\n",
        "\n",
        "decorate_matrix(10)"
      ],
      "execution_count": null,
      "outputs": [
        {
          "output_type": "execute_result",
          "data": {
            "text/plain": [
              "array([[1., 1., 1., 1., 1., 1., 1., 1., 1., 1.],\n",
              "       [1., 0., 0., 0., 0., 0., 0., 0., 0., 1.],\n",
              "       [1., 0., 0., 0., 0., 0., 0., 0., 0., 1.],\n",
              "       [1., 0., 0., 0., 0., 0., 0., 0., 0., 1.],\n",
              "       [1., 0., 0., 0., 0., 0., 0., 0., 0., 1.],\n",
              "       [1., 0., 0., 0., 0., 0., 0., 0., 0., 1.],\n",
              "       [1., 0., 0., 0., 0., 0., 0., 0., 0., 1.],\n",
              "       [1., 0., 0., 0., 0., 0., 0., 0., 0., 1.],\n",
              "       [1., 0., 0., 0., 0., 0., 0., 0., 0., 1.],\n",
              "       [1., 1., 1., 1., 1., 1., 1., 1., 1., 1.]])"
            ]
          },
          "metadata": {},
          "execution_count": 18
        }
      ]
    },
    {
      "cell_type": "markdown",
      "metadata": {
        "id": "75sxny1zSCbl"
      },
      "source": [
        "# Задание 3"
      ]
    },
    {
      "cell_type": "markdown",
      "metadata": {
        "id": "2Xq1tBBAS5UJ"
      },
      "source": [
        "1) реализуйте 2 функции:\n",
        "\n",
        "$f(x) = (x+a)^2 - b$ \n",
        "\n",
        "$g(x) = |f(x)|$\n",
        "\n",
        "2) Найдите аргументы, при которых достигается минимум функций $f(x)$ и $g(x)$\n",
        "\n",
        "Пример. \n",
        "Входные значение: $a=3$ и $b=4$\n",
        "\n",
        "Выходные значения:\n",
        "\n",
        "`-3.0 -1.0`"
      ]
    },
    {
      "cell_type": "code",
      "metadata": {
        "colab": {
          "base_uri": "https://localhost:8080/"
        },
        "id": "yYFioDtM2rZh",
        "outputId": "05741095-8659-4fd5-c63c-69ecfde5fa3b"
      },
      "source": [
        "import scipy.optimize as sco\n",
        "\n",
        "def f(x):\n",
        "  return (x + a)**2 - b\n",
        "\n",
        "def g(x):\n",
        "  return abs(f(x))\n",
        "\n",
        "def find_min():\n",
        "  f_min = round(sco.minimize_scalar(f).x, 2)\n",
        "  g_min = round(sco.minimize_scalar(g, method=\"brent\").x, 2)\n",
        "  g_min2 = round(sco.minimize_scalar(g, method=\"bounded\", bounds=(-100, g_min)).x, 2)\n",
        "  print(f'Minimum of f: {f_min}\\nMinimum of g: {g_min}, {g_min2}')\n",
        "  return f_min, g_min, g_min2\n",
        "\n",
        "a = 3\n",
        "b = 4\n",
        "find_min()"
      ],
      "execution_count": null,
      "outputs": [
        {
          "output_type": "stream",
          "name": "stdout",
          "text": [
            "Minimum of f: -3.0\n",
            "Minimum of g: -1.0, -5.0\n"
          ]
        },
        {
          "output_type": "execute_result",
          "data": {
            "text/plain": [
              "(-3.0, -1.0, -5.0)"
            ]
          },
          "metadata": {},
          "execution_count": 22
        }
      ]
    },
    {
      "cell_type": "markdown",
      "metadata": {
        "id": "efml9GzISC9Q"
      },
      "source": [
        "# Задание 4"
      ]
    },
    {
      "cell_type": "markdown",
      "metadata": {
        "id": "SDZvKcsTVbAW"
      },
      "source": [
        "Постройте графики для функций из предыдущего задания и отметьте другим цветом на графиках точки найденных минимумов."
      ]
    },
    {
      "cell_type": "code",
      "metadata": {
        "colab": {
          "base_uri": "https://localhost:8080/",
          "height": 301
        },
        "id": "WNLrAULE9q7R",
        "outputId": "8e6b30e1-28d5-4b54-a049-30a19638180f"
      },
      "source": [
        "import matplotlib.pyplot as plt\n",
        "\n",
        "x_range = np.arange(-10, 10, 0.01)\n",
        "f_min, g_min, g_min2 = find_min()\n",
        "f_y = f(f_min)\n",
        "g_y = g(g_min)\n",
        "g_y2 = g(g_min2)\n",
        "plt.plot(x_range, f(x_range), color=\"blue\")\n",
        "plt.plot(x_range, g(x_range), color=\"red\")\n",
        "plt.scatter(f_min, f_y, color=\"black\")\n",
        "plt.scatter(g_min, g_y, color=\"black\")\n",
        "plt.scatter(g_min2, g_y2, color=\"black\")"
      ],
      "execution_count": null,
      "outputs": [
        {
          "output_type": "stream",
          "name": "stdout",
          "text": [
            "-3.0 -1.0 -5.0\n"
          ]
        },
        {
          "output_type": "execute_result",
          "data": {
            "text/plain": [
              "<matplotlib.collections.PathCollection at 0x7fac3e731d90>"
            ]
          },
          "metadata": {},
          "execution_count": 19
        },
        {
          "output_type": "display_data",
          "data": {
            "image/png": "[encoded data removed]",
            "text/plain": [
              "<Figure size 432x288 with 1 Axes>"
            ]
          },
          "metadata": {
            "needs_background": "light"
          }
        }
      ]
    },
    {
      "cell_type": "markdown",
      "metadata": {
        "id": "mrby3EfiSDKJ"
      },
      "source": [
        "# Задание 5"
      ]
    },
    {
      "cell_type": "markdown",
      "metadata": {
        "id": "J6AZ8785VkQd"
      },
      "source": [
        "1000 человек бросают монетку. Каждый бросил 10 раз подряд.\n",
        "\n",
        " 1. Какова вероятность того, что хотя бы у одного человека монетка выпала 10 раз подряд той же самой стороной (орлом или решкой)? \n",
        " 2. Какова вероятность того, что хотя бы у одного человека монетка выпала 8 раз подряд той же самой стороной (орлом или решкой)? \n",
        " 3. Какова вероятность того, что ровно у троих человек из 1000 монетка выпала 10 раз подряд той же самой стороной (орлом или решкой)?"
      ]
    },
    {
      "cell_type": "code",
      "metadata": {
        "colab": {
          "base_uri": "https://localhost:8080/"
        },
        "id": "_yN54-htCK4m",
        "outputId": "c2cd83ae-cb33-4b54-9677-e70f8d361216"
      },
      "source": [
        "from math import factorial as fact\n",
        "\n",
        "def successfull_possibility():\n",
        "  return 2 * 0.5**successfull\n",
        "\n",
        "successfull = 10\n",
        "people = 1_000\n",
        "successfull_people_task3 = 3\n",
        "\n",
        "print(1 - (1 - (successfull_possibility()))**people)\n",
        "successfull = 8\n",
        "print(1 - (1 - (successfull_possibility()))**people)\n",
        "successfull = 10\n",
        "print((fact(people) / (fact(people-successfull_people_task3) * fact(successfull_people_task3)))\n",
        "     * successfull_possibility()**successfull_people_task3 \n",
        "     * (1 - (successfull_possibility()))**(people - successfull_people_task3))"
      ],
      "execution_count": null,
      "outputs": [
        {
          "output_type": "stream",
          "name": "stdout",
          "text": [
            "0.858440454732242\n",
            "0.9996075798421896\n",
            "0.1762873858121736\n"
          ]
        }
      ]
    }
  ]
}